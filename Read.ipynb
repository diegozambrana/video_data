{
 "cells": [
  {
   "cell_type": "code",
   "execution_count": 1,
   "metadata": {},
   "outputs": [],
   "source": [
    "import json"
   ]
  },
  {
   "cell_type": "code",
   "execution_count": 2,
   "metadata": {},
   "outputs": [
    {
     "name": "stdout",
     "output_type": "stream",
     "text": [
      "[{'title': 'El Ataque Del Ángel', 'season': 1, 'chapter': 1, 'description': 'Es el año 2015, y la Tierra ha sufrido un terrible ataque, luego de la aparición de unos Ángeles. Pero una organización ha desarrollado una posible solución: Evangelion, o simplemente EVA.', 'sources': ['https://www.blogger.com/video.g?token=AD6v5dxTxTtsrDL_fuwkMtSczO0kdj1aSDoFU0wjt6Rl9eZxLC1El2UTpxbMtD4zJRgM7G3-YjBxai9HiZBKrM0pB2nWdMXJENPF03Z28vR2X1kMZow-FYXrPctSi-ovzs_lYtEyt1A']}, {'title': 'Un Techo Desconocido: La Bestia', 'season': 1, 'chapter': 2, 'description': '', 'sources': ['https://www.blogger.com/video.g?token=AD6v5dxzFu8dLZIEsNhah5emNMIorVLx3xoFwWsrwOFHaqCOThpPWHYLXqW_IECxH3qtuchnYSgHswuiaZaQbEM-ryP41QeCeJFJmln2W8E20O-e0r7YayfnC6uPaI72sd16nWeNu8II']}, {'title': 'El Teléfono Que Nunca Suena: Transferencia', 'season': 1, 'chapter': 3, 'description': 'Shinji se va adaptando al EVA, y de apoco en la escuela. Algunos están emocionados porque es el piloto, y otros no. Además, el cuarto Ángel, Shamshel ataca.', 'sources': ['https://www.blogger.com/video.g?token=AD6v5dyOK7IczyOhaB_vWej7ycu20RH4BB2lDXdnZdHcvyRey6WnlBJpI34tRTTjcbHEZogDpgnr8H_2a8cmWCo1Rukc8I8wY-dvcVjGEFvgZvOTXZFI9Do2syFnM9P9iUq5NHsoMn8']}, {'title': 'Lluvia, Después De La Huida: El Dilema Del Erizo', 'season': 1, 'chapter': 4, 'description': '', 'sources': ['https://www.blogger.com/video.g?token=AD6v5dzeiYEnL9NDLXfzHdTYzp0DdEHGUMvszmcoT_TMO8bBHMYPExVQoETQRbX3544YOMMnIeGQL9PQGVM8u0BAOsZI0Umy7q15DU0RrTSXjs3t6i1QIHLZKSX0G6O8e0o9ySPbfeSV']}, {'title': 'Rei, Más Allá De Su Corazón', 'season': 1, 'chapter': 5, 'description': '', 'sources': ['https://www.blogger.com/video.g?token=AD6v5dwh92a59oITVzS6dDoNncw4_m8t0mb1fhkrTNq21fmU928kpAvmqypoUewGmkgPqHd4rwL5u2VB8lVUK2rMi6HVMTj3DKL-gfAKTNRtdCcIEOsBLsKWeuc1hTDqxjsyx9HI5hiq']}, {'title': 'La Batalla Decisiva: Distrito 3 De Nuevo Tokyo', 'season': 1, 'chapter': 6, 'description': '', 'sources': ['https://www.blogger.com/video.g?token=AD6v5dwf-J1HYwc5uaddnbDEx_Q9NsvQ3OWyEQ-sUkV8AoG1N62-k10oRjeF9kLlE55m6-bLCwsQi6zPjoZgm5svrhnTdGnYIj94_CcHKNFZ-jv6NBoWDfmqyrZhi64vpYwbtDuwaaD7']}, {'title': 'Construido Por Los Hombres', 'season': 1, 'chapter': 7, 'description': '', 'sources': ['https://www.blogger.com/video.g?token=AD6v5dxzzutcPPp6xIH5lJfNpq0yM429fxm0recBd48uFcELYHfEQohwrt93M_4dvQ_I4FT2syd3e5-6oFQ8qYbEcHmhlw5omBp4DLSlrHk8aFm2OQh9BXqQBJp2tP98WA3wJog2YrsB']}, {'title': 'Asuka Llega A Japón', 'season': 1, 'chapter': 8, 'description': 'Misato lleva a Kensuke, Touji y Shinji, a un supuesto paseo, que no es nada más ni nada menos que llegar a las embarcaciones del EVA-02, donde conocen a su piloto alemana, Asuka.', 'sources': ['https://www.blogger.com/video.g?token=AD6v5dwppryAN7utA5IbIY4dyUcJlfoJVGikTKvOIx_x_cWlLagrW3TwjQqIQQ0YT6iPx3roMoUzC0uky-jzt49YoSapOoYLjUgsQAQq0PfdpQgOHoVxUgMp4ASh3ZPPPPEKWXKPfw0']}, {'title': 'Un Instante, Una Mente Al Unísono', 'season': 1, 'chapter': 9, 'description': 'Por culpa de Asuka y no saber pelear en equipo, la mandan a vivir con Shinji y Misato. Así es, el uno tendrá que soportar las actitudes del otro.', 'sources': ['https://www.blogger.com/video.g?token=AD6v5dwogt0ODU9BTSp9cEK97xOfJ2uLl50k8Qs6njwFcXSKxUzRbv329M7cnaXvEY3ooY9JYQ5M7UJNC2GBooargh3Lk_CuKal78wkmo7jNqy8QcUXLnNNLfKFELcZuFGaxK7cV0JA3']}, {'title': 'Sumergida En El Magma', 'season': 1, 'chapter': 10, 'description': 'Shinji y Asuka no pueden ir a un viaje escolar en caso del ataque de más Ángeles, y NERV encuentra un Ángel en un volcán, decidiendo atacar preventivamente. ¿Ocurrirá otro Impacto?.', 'sources': ['https://www.blogger.com/video.g?token=AD6v5dwkkgYzT_aV1P0ok3KpPZBbp69w_hZGBroHbd0fCVNfHRqZCiJAPaeQ-_Oc-I0fnOxMSSZemyLXbmzBx1jnEMfBlqku0n6eImmfwSPTJqeAX8O14Zrz6z6m9wIEVUvWUlL24Rom']}, {'title': 'En Las Tinieblas Inmóviles\\xa0', 'season': 1, 'chapter': 11, 'description': 'Estreno: 13 de diciembre de 1995 (JA)', 'sources': ['https://www.blogger.com/video.g?token=AD6v5dwLXqUp7rc5blORXpA9lWMVpbawuPXcfnCku14bwd4g83KDxM68eMnsKPniz4bhdoRSLmvJ4ioPsCTZbzbPNz7WY03kb2QVP7HNwj1aF6kwzMb_hXvIzlbboLpVCKNrZkcRvw']}, {'title': 'El Valor De Un Milagro', 'season': 1, 'chapter': 12, 'description': '', 'sources': ['https://www.blogger.com/video.g?token=AD6v5dzpDOUcMoQ3rRrXx8zM18eN59XVwL0HmJN-aL1TriibPjn43ZES68appkDGgOa2fcmFb4uQL4Hvwzw2MnwLHdm5Z0U0w7sYjqu8HxOx36ufnPYaexaALwxRjxvpQJ7JhrKoDL0']}, {'title': 'La Invasión Del Ángel', 'season': 1, 'chapter': 13, 'description': '', 'sources': ['https://www.blogger.com/video.g?token=AD6v5dwRDbHO9cTvCzwWCgVTf1iRak2l-uClVyGQGA3oFrS3QHSd6rku1uvZlVCzgXjs_Jdbg0Gn7RSWP3n5xAmJj7P79bDtP30JZ6KRC4moQrHMpEqZwjlMCImZ8YHcUfLEry-TBnM']}, {'title': 'Seele, El Lugar De Los Espíritus', 'season': 1, 'chapter': 14, 'description': '', 'sources': ['https://www.blogger.com/video.g?token=AD6v5dwLcCDf1v8tIktOHhoRRYp1IzLjNp5RG0dADG-spV981WnM0NBxd6OIYSvJFR-dQMmdeM1mu4hoaGEBjiKMufpzRDART76agdxKKHiNAIj0DnpTptQTZu9fX-WX8Be4hAD3UTM']}, {'title': 'Mentiras Y Silencio', 'season': 1, 'chapter': 15, 'description': 'Shinji tiene miedo de hablar con su padre, los trabajadores de NERV se preparan para una boda, y Kaji actúa de manera sospechosa.', 'sources': ['https://www.blogger.com/video.g?token=AD6v5dxPHbWktw_8q5rma52ugRMIV-i_hXp_8B-TF7pS-IubnfuMPULyVrCXz2zpse5L_RqxHteBJGKBUS6OnOSaGKqE9E-0OQ7oumiJaCRQbiuxprevkz_eTLZIjhS0LV0Xmxik2HQ']}, {'title': 'Al Borde De La Muerte, Y Después...', 'season': 1, 'chapter': 16, 'description': 'Shinji entra en confianza luego de superar a Asuka y Rei, tanto, que acepta uno de los retos de Asuka, ser el primero en pelear contra el Ángel Leliel, pero su forma física resulta no ser su forma real.', 'sources': ['https://www.blogger.com/video.g?token=AD6v5dyC1u5eyLf_E4s17wjiQ0geqKjGWHScxWexkFxFI-bq0MvikjhLioL11T8ZWoNNA1TKXRNUuanCmZBa80M3CDUJGAP8L3Lb0KsWsG7TDsoxnKD5fg0BHQOo4GyPBHYb5AY5-1Y']}, {'title': 'Apto Para Ser El Cuarto Elegido', 'season': 1, 'chapter': 17, 'description': 'La segunda rama de NERV ha desaparecido, y mandan el EVA-03 a Japón. Ahora, la base central de NERV debe buscar al cuarto piloto de este Evangelion.', 'sources': ['https://www.blogger.com/video.g?token=AD6v5dw7u0VsRdjapRfTNylIm2XBoI3FHfHpQ7EbawdsvLJTyy2yEXYgke9IjYnexeI3jRrR7_a_Go96EoDcf9QV1oG1nGryWw1-vYb1Bd7G4d_x2h4eMdp3xpS-HxkrIRe3ezvoiwM']}, {'title': 'Elegir Un Destino', 'season': 1, 'chapter': 18, 'description': 'Un Ángel posee el EVA-03 mientras hacían exámenes de pruebas. Ahora, los EVA tienen que atacar al Evangelion, y Shinji es el único que no tiene idea de quien es el piloto.', 'sources': ['https://www.blogger.com/video.g?token=AD6v5dz4KGWglLDNSoaEv4OlWIvmnRU84XeI08v1LmONajvJp-_hLVtrhdvHxLbeRedaS2RxpxS4qfbCM1MDs8psKHhfgj2-ZuJlGn9Secm-F5HsA2tMsZYbP_bVLr1NKJcsGvZ-tk0']}, {'title': 'El Combate De Un Muchacho', 'season': 1, 'chapter': 19, 'description': '', 'sources': ['https://www.blogger.com/video.g?token=AD6v5dxmszA0l21LoA3mIdlEeaBbZZ03ogneSvJNnuW0R4WFZqQnQmejbTJuc7gdqmb5T_sW0T2vRnQgP1mGPWTgA5JmvyZ_ewZTezLqtMu6l9Uv-W_aG_gbCUngAbsdCjpsAIH8Uxg']}, {'title': 'El Espejo Del Alma', 'season': 1, 'chapter': 20, 'description': '', 'sources': ['https://www.blogger.com/video.g?token=AD6v5dxiHSO4fj0ImfiQ169jqSOu8R9sIgGvpUTzI63aMyu-Om77BMQOhwzvbakEuWOfRP51RTdUcN0E2o3iCltpSzFDFljm5pOMerWEyyRE2dgvsgnuoPAhFQMkkkB8-BW6nlm0SY4']}, {'title': 'NERV: El Nacimiento', 'season': 1, 'chapter': 21, 'description': '', 'sources': ['https://www.blogger.com/video.g?token=AD6v5dxM3ByColI9LN3shiHyJXR08HpxpDq3JUV0GohzjppSNXm8heWRbQT4VgmmlsdAihSdVXhhwIDvwY9HU9S97kd958cYj2pn6TFRHM1DaS1FZJlE86fyY4FL-Y9_Lkzl8ujAGjwA']}, {'title': 'Al Menos Actúa Como Un Ser Humano', 'season': 1, 'chapter': 22, 'description': 'Asuka se ha sentido mal últimamente, quizás por el hecho de que su madre haya querido a una muñeca y no a su propia hija.', 'sources': ['https://www.blogger.com/video.g?token=AD6v5dyYJmRYkcxljUNPJWp0O30b8duY959QnBOZcmmnT7kBxdK8m-nsAGFOpOOrFc6dAPfFWZ_6g0pRUDl9CD_pgb2cUMGg3KHyY1okKQEmcYH9561CAdaf07eqDwEh_u95UhlAnxFy']}, {'title': 'Lágrimas - Rei III', 'season': 1, 'chapter': 23, 'description': 'El penúltimo Ángel llega a la Tierra, y trata de crear contacto con el EVA-00 y su piloto, Rei.', 'sources': ['https://www.blogger.com/video.g?token=AD6v5dw40mq7Yx6K0K_eRaOS5wyit3k6wmYInoEv2uNlbficYDZQyj2oqvTcsymxZ__l-YsZo_wv785KDHAq8wfRhJJPjFWgTQ89wtyFaJqeSbdXPmrAtk2xE-rDG1fFpLRezovei84']}, {'title': 'El Último Enviado', 'season': 1, 'chapter': 24, 'description': 'Ya sólo queda un Ángel, pero Asuka se encuentra incapacitada para pelear, así que Seele manda un quinto elegido, para sustituirla.', 'sources': ['https://www.blogger.com/video.g?token=AD6v5dyle2cBBR6PhBqrUoTiXqPcFEWalqfOFPiEUHXtU1Eci3EEOEXRIKWPCrkk5r7v2VIOx6H89IU-EDGo4Ur96eLmSlGqAjN5g_z1itaTsgwP91sh36aXFl5XBCrvdHLTJfCj1Dc']}, {'title': 'Un Mundo Que Se Acaba', 'season': 1, 'chapter': 25, 'description': '', 'sources': ['https://www.blogger.com/video.g?token=AD6v5dwd1nOoMSwNi9bgxOR_t1pzSj0_hroM1sHit2tVv-DDDxYYtVbSc-sx1IFR83JN3z6HpNGWguHNhYBSWt7LpsGugBLPrXGhD9hAe6AxXIqu4pDqmCyJl-7GyyhvvlRmk_PNT3E']}, {'title': 'El Monstruo Que Pedía Amor En El Centro Del Mundo', 'season': 1, 'chapter': 26, 'description': '', 'sources': ['https://www.blogger.com/video.g?token=AD6v5dwovt3cKeJ5HyQmrPggVlW3_2qY8wpbkykztBPHkktWkiNgIty63MFQrh2y7F2LdGPsqalI2Zzy5sH4vl2tkXH4IvLSyttdKrWNKhsyujv8KMwPCm5FMvZL22zmdrsro_xoktg']}]\n"
     ]
    }
   ],
   "source": [
    "PATH = \"/Users/diego/Projects/mrtr_videos/data/evangelion.json\"\n",
    "with open(PATH) as json_file:\n",
    "    data = json.load(json_file)\n",
    "    print(data)"
   ]
  },
  {
   "cell_type": "code",
   "execution_count": 4,
   "metadata": {},
   "outputs": [
    {
     "name": "stdout",
     "output_type": "stream",
     "text": [
      "0 El Ataque Del Ángel\n",
      "1 Un Techo Desconocido: La Bestia\n",
      "2 El Teléfono Que Nunca Suena: Transferencia\n",
      "3 Lluvia, Después De La Huida: El Dilema Del Erizo\n",
      "4 Rei, Más Allá De Su Corazón\n",
      "5 La Batalla Decisiva: Distrito 3 De Nuevo Tokyo\n",
      "6 Construido Por Los Hombres\n",
      "7 Asuka Llega A Japón\n",
      "8 Un Instante, Una Mente Al Unísono\n",
      "9 Sumergida En El Magma\n",
      "10 En Las Tinieblas Inmóviles \n",
      "11 El Valor De Un Milagro\n",
      "12 La Invasión Del Ángel\n",
      "13 Seele, El Lugar De Los Espíritus\n",
      "14 Mentiras Y Silencio\n",
      "15 Al Borde De La Muerte, Y Después...\n",
      "16 Apto Para Ser El Cuarto Elegido\n",
      "17 Elegir Un Destino\n",
      "18 El Combate De Un Muchacho\n",
      "19 El Espejo Del Alma\n",
      "20 NERV: El Nacimiento\n",
      "21 Al Menos Actúa Como Un Ser Humano\n",
      "22 Lágrimas - Rei III\n",
      "23 El Último Enviado\n",
      "24 Un Mundo Que Se Acaba\n",
      "25 El Monstruo Que Pedía Amor En El Centro Del Mundo\n"
     ]
    }
   ],
   "source": [
    "for index, d in enumerate(data):\n",
    "    # print(index, d['title'])\n",
    "    print(index, d['title'])"
   ]
  },
  {
   "cell_type": "code",
   "execution_count": 25,
   "metadata": {},
   "outputs": [
    {
     "data": {
      "text/plain": [
       "False"
      ]
     },
     "execution_count": 25,
     "metadata": {},
     "output_type": "execute_result"
    }
   ],
   "source": [
    "s = 'American Dad 12×04 – Big Stan en el campus'\n",
    "'–' not in s and '-' in s"
   ]
  },
  {
   "cell_type": "code",
   "execution_count": 80,
   "metadata": {},
   "outputs": [],
   "source": [
    "data[617]['title'] = 'Los Simpson 29×11 – Frink se pone irritable'"
   ]
  },
  {
   "cell_type": "code",
   "execution_count": 82,
   "metadata": {},
   "outputs": [],
   "source": [
    "archivo = open('simpson_fixed.json', 'w')\n",
    "archivo.write(json.dumps(data))\n",
    "archivo.close()"
   ]
  },
  {
   "cell_type": "code",
   "execution_count": 83,
   "metadata": {},
   "outputs": [
    {
     "data": {
      "text/plain": [
       "{'title': 'Los Simpson 22×11 – Moe llameante',\n",
       " 'season': 22,\n",
       " 'chapter': 11,\n",
       " 'description': '',\n",
       " 'sources': ['https://www.blogger.com/video.g?token=AD6v5dzinzwb12FFpNXT2WumkvAa1SjY43NuYO0uew5mWgDoegySz1yju3zd-4FKDYoqGlrTCHU9_bqM5veqXp_I_hI8-meDEq1mNz7zmQ_BsgbiBfg-NVnvERQQnco5Lsg7xJUcWnLN',\n",
       "  'https://mega.nz/embed/Uk1XXRoB#Ze1SLRgXJVHs2XUP5bvLv48seM98UDJmpiBBChgzZQI']}"
      ]
     },
     "execution_count": 83,
     "metadata": {},
     "output_type": "execute_result"
    }
   ],
   "source": [
    "data[464]"
   ]
  },
  {
   "cell_type": "code",
   "execution_count": 94,
   "metadata": {},
   "outputs": [
    {
     "name": "stdout",
     "output_type": "stream",
     "text": [
      "0454dcb0\n"
     ]
    }
   ],
   "source": [
    "import uuid\n",
    "\n",
    "print(str(uuid.uuid4())[:8])"
   ]
  },
  {
   "cell_type": "code",
   "execution_count": null,
   "metadata": {},
   "outputs": [],
   "source": []
  }
 ],
 "metadata": {
  "kernelspec": {
   "display_name": "Python 3",
   "language": "python",
   "name": "python3"
  },
  "language_info": {
   "codemirror_mode": {
    "name": "ipython",
    "version": 3
   },
   "file_extension": ".py",
   "mimetype": "text/x-python",
   "name": "python",
   "nbconvert_exporter": "python",
   "pygments_lexer": "ipython3",
   "version": "3.8.5"
  }
 },
 "nbformat": 4,
 "nbformat_minor": 4
}
