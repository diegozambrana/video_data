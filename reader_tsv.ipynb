{
 "cells": [
  {
   "cell_type": "code",
   "execution_count": 2,
   "metadata": {},
   "outputs": [],
   "source": [
    "import csv"
   ]
  },
  {
   "cell_type": "code",
   "execution_count": 9,
   "metadata": {},
   "outputs": [
    {
     "name": "stdout",
     "output_type": "stream",
     "text": [
      "Canción triste para un asteriode 1 1 https://www.blogger.com/video.g?token=AD6v5dw9nPEW5h_VwwD9IF-601-DbZV8DiXAkrOTdyzR400VB2ujkBr6sS5y9qqhT_QBbsk1TxysIJPRq3aIfwBPrba7yYFXISbcYquGM79prPNCz4dEe1M2pBJOlSAPzyQdA3Xnb0OF\n",
      "Strut, perro callejero 1 2 https://www.blogger.com/video.g?token=AD6v5dzr9ph4OhRisi6LBD7luKuUyulWBgxK7Hr85kZogb9hlwFrKESb8vXD066B7kRbgvE6SloXjlhvRBAtcCAoOY56tj7pwQKUs14dxmJNVRZB4381cIrQs0hSwBaL5f36_YS8Rnxj\n",
      "La jugadora 1 3 https://www.blogger.com/video.g?token=AD6v5dwM-t6zZWobxp1UQOJCjgI92wf2Y_7t5gyVmF5iHJxE5LoZn0C3n-Y2msA--kadZo4kDocYZtqeAiKtyEWNsCFNYcTVQEX2T8dEO8RUPt2abLmNJ7wAvWSTBxwZ9rKxWabAdNW_\n",
      "Puerta de escape 1 4 https://www.blogger.com/video.g?token=AD6v5dxLG4jh4OZ1NJGEcf93_Y45QqX8ftQJ_DH9pU4BsmbORexr4v1tEl2yNl6LtfU-c-9b_oOYuYGSMBMObEgGSyGvQmeA-Q66Jyg9J4wqJUAIp9jql62eeZyQr8Zz1uk-x0D2_e4\n",
      "La balada de los ángeles caídos 1 5 https://www.blogger.com/video.g?token=AD6v5dwf1ss6cWZlg_1VV7OnOrpc9KzZLeNEf2B0u6pX9Usvrh-7XoM6qmMKkPC0tREZ0g0258wLqhGI2R_UFOwVTEKUAe2noHOApacH_-UaSQxVFmcLfq0_9NNzhptcb3BYnQcIbPV2\n",
      "Simpatía por el Diablo 1 6 https://www.blogger.com/video.g?token=AD6v5dxuJD3crb6_-N4o9Cl-m4Txi2Y24xY3OE0e3L9911lN9oda69jyfIQ7I4nUgj1BB6AQKdcAutRyv97KRFAs7I83yOA3rAtoPaeRZYGJuBr-VJnd8zz4Wj5M8leY_L4E1btiOcg\n",
      "La reina del Heavy Metal 1 7 https://www.blogger.com/video.g?token=AD6v5dx5l7hrYL6wBCFEmIEv9VmxcAb2VFsC-_whbZ0Ekgn4uMpkjBT5kNUvSJz8IiYx695gkYTkYGBn6DapDMatecJF5q-JT_-kT7IrFM0P1MfJvy4gp3u7ATtLW2-uzpJ-w-2z-3w\n",
      "El vals de Venus 1 8 https://www.blogger.com/video.g?token=AD6v5dwgep7GH4R6dLsQA992GOnJNu_MeassU0msqlF5Z5fieZSCP13GNjPi05zoS63hE_hfnHcQMMNcTYYibdI4ZqCSSATtikYV9-XsvgrJ7yjpJZYTHqFX7f5_juAZoapkRvjb2EgY\n",
      "Interferencias de Edo 1 9 https://www.blogger.com/video.g?token=AD6v5dxP5cqZ7dNh1mCQlz-DAKBuz2ViH1VhmxAO2eI6hyHnIUMmy3PQnWSmAD8LONmwMDUQs4NXyYvWOsnRLWwCJtoIU-OijoIAo2NW-xBjwU-03IjU7qVwBathXsaDbLE-boCNJi4\n",
      "Elegía de Ganímedes 1 10 https://www.blogger.com/video.g?token=AD6v5dxoTB4ul2_e0avLrD5wONvSw3R07OyHCT2GTLWWardc7K_E7MZ0Mir39GaGHBHTvE_ulR6LKGxapdRUUBUBtWFzTMZJ8YCgqR4nAzheKD1sML7v9VOHnI2hvTMd5ZG8e-c6R_M\n",
      "Los juguetes del desván 1 11 https://www.blogger.com/video.g?token=AD6v5dz0mvyvABNozfR8K4yOnaU6GPgxKBx-uuuL13c1Dx7dDXBvn-ohjbwZucxes018c0TSvdun2-NO8cTlETys8Z9e4SXCiNAWTQNA0IDS0uF6RtrhknQpDum457-_aYNxuGMzYR3I\n",
      "Jupiter Jazz (1) 1 12 https://www.blogger.com/video.g?token=AD6v5dx2UUmS35TG87ynLcOsskyi0buisita3RgqxZ7_e_zhPwrCKpcw3X3AVy80qiUnOpIJd_XaomyO2dIcXW8ZUmFOs1QJ_8rjPuwBC9GRIc9QZ7SUt3rCwa_qwawIzn1QpUuZ8Yo\n",
      "Jupiter Jazz (2) 1 13 https://www.blogger.com/video.g?token=AD6v5dxvY4e3xPSyJNrMVKiuJpur02fqjjQjDWFVlMpUx3x7Ox5DKsmdKNHTchXIwe2vh-OJsNGuLSxC6KomGYr7oHDsKV0C6xCa8qaR9w3NPHxi020OGfqxpqKaZL6khaBLFYMPkZ0\n",
      "Rapsodia Bohemia 1 14 https://www.blogger.com/video.g?token=AD6v5dxEpaYM_C6Gy4hDNCYwfE3hiRi8vSFZUfczeGJsDakAnPwu8iBya5F4q785dzJmLbKGYrM25qm7Cn6eZ4_IMcpAHaepI3S82_TMBZzGXHKyN29xoM9Smcx2kGZ1AsXYFXc9xQ\n",
      "Mi querida Valentine 1 15 https://www.blogger.com/video.g?token=AD6v5dz0Dc2m12t4hRxd2n_JuCZfw08i3WECwgW1EcisesD0W-Dj_PjPA00tILk0iSNqxapFDz5zStk1dG1NLPfIuiB8vUHKi0LfagGAC_JcRVDU2QZOJddGegZPPivlELs3wRbaXQSi\n",
      "La serenata del perro negro 1 16 https://www.blogger.com/video.g?token=AD6v5dzxBPa7hcVcIdsGnZ1YJzSegZJJU0opmNS8CwdGJX8_X7IAC-cOFk4svSdvIaBKi9LJxabwmdfamlsVJYPYTT48u0AEn9z0vV6NDgZ8__n_JAYBwexcy6hYe1AvC_Z2nB7s62ur\n",
      "La samba de las setas 1 17 https://www.blogger.com/video.g?token=AD6v5dx_La-W7sBwTqsd2jLApHLq7GYxEp2NMUYXh7XHw8dBvGm8HiEpezGgJPKoPJag5-KZf0tS9LokFXCqAjr6JbLIIwSYdaKM_lJNTrGzKQ61LsT3_B9UuIop-mxnefABJUL6ghI\n",
      "Habla como un niño 1 18 https://www.blogger.com/video.g?token=AD6v5dyKazZ4aF8WOsZaSPWSaQ2MpQT545nioi2AyEkvO6SrmitOm84_sGfrjb-_Tb5PA7t8vQJQRMnHiZxhlrF_ex9B-CBV0tA71MvB2UgTlFRCXlloJMZNATzVrQAEhgMaaTSWaOOb\n",
      "Caballos salvajes 1 19 https://www.blogger.com/video.g?token=AD6v5dzH4gninEqKbI1VGnvqEqTCboaVy3hA4UBRbq4ZIivfGrq_b30KtMAgSaBwcBz7wwe4hn7NJJZvvDYxNTc6bvMkIAGWlOHIUEm96OcDoT_pihRlKt-6TCh0hgKr1too3mGt52Y\n",
      "Pierrot el loco 1 20 https://www.blogger.com/video.g?token=AD6v5dzorQjl1DWh_3vqppMbFLiMHAX2mchJYhrBXbFmgf7-YiC65Eaor1eSpstKF0AmLNd5SCTL_6RZfuVnd7UGM6r3ZmeYLmwfdznWqaRG8LULQbVDExDmgnM_lJ5W8d3wxkQGT94v\n",
      "Boogie Woogie Feng Sui 1 21 https://www.blogger.com/video.g?token=AD6v5dyVCj0D9k7SHNKvJdzVq2rpA-C7MDyxrtf0EoJPSlsQc5mmfKJ1EfWQ0KSXSby76haXY4TDicgK9_o9OU23ItYnOQrQGp0IG54lSuZ1u-B6_zhWtO_yFOPRpBWqhF4oUqjt6qc\n",
      "Terror Cowboy 1 22 https://www.blogger.com/video.g?token=AD6v5dze9slToSwFDe6CrKjq6PXtUQo7HYXuNnlmsqaiIp4RZ1hpgI1nOTK0268sGuhxpuUKbSA9rC0r2ff4IA4ZlwLysEDMJ2nbylmPCByxUjvnWhb5KUtpOJGMS6Z0o-HWM38ytw-T\n",
      "Arañazo cerebral 1 23 https://www.blogger.com/video.g?token=AD6v5dyfMmWXT4f8Ig2XHdvXzdezaQClY1kVf62cAmoTbZB6guv6x3B1Ai7_BaCXCcYmqzdpWjl1cIMRPu0OLYrnb7p6ypL5MqAwE4SqAwG4BH3J9UNdOjgDP8k7TLfb4wezcifi9aUI\n",
      "El destino de la mujer es duro 1 24 https://www.blogger.com/video.g?token=AD6v5dwKTadmWhPDLaPiIsdNSO-McTD2-JWjdhbnb7fS8kyFpLPXVumfexgPe1CfyhNFeSajim4wxLOhBVnh6V-I9hRcs0WAEiIpkXaH9tXDGVYiNxjF2GIOZtCRbiiy2Lnv99_1_K6j\n",
      "El verdadero blues de la gente (1) 1 25 https://www.blogger.com/video.g?token=AD6v5dyoSHHhVtrVwnYm_fGvgEh5iYSuSvZvASvd6w7fgl0dkrFMsNUXRjYeQ-yfqsvF6ahE4_0o_ahbhI_wEINdrHR1-IPdcTfuTP-ptCpy5DN9b-Fw7o0c7Sipi39jelh0Ajl3Dsfi\n",
      "El verdadero blues de la gente (2) 1 26 https://www.blogger.com/video.g?token=AD6v5dx3x3aAPRtbXi__Ys72l6U09AU5A6O0Iy7rEMlUUxtyBdNdKdJBK5hYwcdkq-A7nLb5qCsdVHR9C9__6Saa0eRSheFDhhEVccIpfKPUM7jFQjAhr2aElUgIt-6mlZeOXxtrU1s\n"
     ]
    }
   ],
   "source": [
    "URL_TSV = \"/Users/diego/Projects/mrtr_videos/data/Cowboy.tsv\"\n",
    "tsv_file = open(URL_TSV)\n",
    "read_tsv = csv.reader(tsv_file, delimiter=\"\\t\")\n",
    "next(read_tsv, None)\n",
    "for row in read_tsv:\n",
    "    title = row[0]\n",
    "    description = row[1]\n",
    "    season = int(row[2])\n",
    "    chapter_numbr = row[3]\n",
    "    source = row[4]\n",
    "    print(title, season, chapter_numbr, source)\n",
    "tsv_file.close()"
   ]
  },
  {
   "cell_type": "code",
   "execution_count": null,
   "metadata": {},
   "outputs": [],
   "source": []
  }
 ],
 "metadata": {
  "kernelspec": {
   "display_name": "Python 3",
   "language": "python",
   "name": "python3"
  },
  "language_info": {
   "codemirror_mode": {
    "name": "ipython",
    "version": 3
   },
   "file_extension": ".py",
   "mimetype": "text/x-python",
   "name": "python",
   "nbconvert_exporter": "python",
   "pygments_lexer": "ipython3",
   "version": "3.8.5"
  }
 },
 "nbformat": 4,
 "nbformat_minor": 4
}
