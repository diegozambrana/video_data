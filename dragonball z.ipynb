{
 "cells": [
  {
   "cell_type": "code",
   "execution_count": 2,
   "metadata": {},
   "outputs": [
    {
     "data": {
      "text/plain": [
       "<Response [200]>"
      ]
     },
     "execution_count": 2,
     "metadata": {},
     "output_type": "execute_result"
    }
   ],
   "source": [
    "import time\n",
    "import requests\n",
    "import json\n",
    "import re\n",
    "from pyquery import PyQuery as pq\n",
    "from ftfy import fix_encoding\n",
    "\n",
    "\n",
    "URL = \"https://www.dragondelasesferas.com/2020/09/dragon-ball-z-capitulos-completos.html\"\n",
    "\n",
    "HEADERS = {'User-Agent': \"Mozilla/5.0 (Macintosh; Intel Mac OS X 10_11_5) \"\n",
    "                         \"AppleWebKit/537.36 (KHTML, like Gecko) Chrome/50\"\n",
    "                         \".0.2661.102 Safari/537.36\"}\n",
    "\n",
    "main_page_response = requests.get(URL, headers=HEADERS)\n",
    "main_page_response"
   ]
  },
  {
   "cell_type": "code",
   "execution_count": 5,
   "metadata": {},
   "outputs": [],
   "source": [
    "path_html = \"/Users/diego/Projects/mrtr_video_data/html_files/dbsuper.html\"\n",
    "f = open(path_html, \"r\")\n",
    "# print(f.read())\n",
    "episodes = pq(f.read()).find('.post-body.post-content strong + span')\n",
    "data = []\n",
    "c = 1"
   ]
  },
  {
   "cell_type": "code",
   "execution_count": 4,
   "metadata": {},
   "outputs": [],
   "source": [
    "episodes = pq(main_page_response.content).find('.post-body.post-content strong + span')\n",
    "data = []\n",
    "c = 1"
   ]
  },
  {
   "cell_type": "code",
   "execution_count": 6,
   "metadata": {},
   "outputs": [
    {
     "data": {
      "text/plain": [
       "131"
      ]
     },
     "execution_count": 6,
     "metadata": {},
     "output_type": "execute_result"
    }
   ],
   "source": [
    "len(episodes)"
   ]
  },
  {
   "cell_type": "code",
   "execution_count": 7,
   "metadata": {},
   "outputs": [
    {
     "data": {
      "text/plain": [
       "'¡La reunión entre el maestro y su discípulo! ¡Gohan y Trunks del Futuro!\\n👉 [Opción 1] - [Opción 2] - [Opción 3]\\n'"
      ]
     },
     "execution_count": 7,
     "metadata": {},
     "output_type": "execute_result"
    }
   ],
   "source": [
    "episodes[51].text_content()"
   ]
  },
  {
   "cell_type": "code",
   "execution_count": 8,
   "metadata": {},
   "outputs": [
    {
     "data": {
      "text/plain": [
       "['https://waaw.to/f/6ceYKF8K5MLj',\n",
       " 'https://yadi.sk/i/kPYCpuUrP9jugQ',\n",
       " 'https://drive.google.com/file/d/1O6YsJNUsPMnllJ_HZNJ5FvyZTE8fOLDY/view?usp=sharing']"
      ]
     },
     "execution_count": 8,
     "metadata": {},
     "output_type": "execute_result"
    }
   ],
   "source": [
    "list(map(lambda x: x.attrib['href'], pq(episodes[42]).find('a')))"
   ]
  },
  {
   "cell_type": "code",
   "execution_count": 9,
   "metadata": {},
   "outputs": [],
   "source": [
    "def clean_text(text):\n",
    "    res = text.split('<br/>')[0].replace('\\n', '').lstrip()\n",
    "    return res"
   ]
  },
  {
   "cell_type": "code",
   "execution_count": 10,
   "metadata": {},
   "outputs": [
    {
     "name": "stdout",
     "output_type": "stream",
     "text": [
      "{'title': 'El premio mundial de la paz. ¡¿Quién se quedara con los 100 millones de zenis?!', 'season': 1, 'chapter': 1, 'description': '', 'sources': ['https://waaw.to/f/2bGYT13V1VBC', 'https://yadi.sk/i/pJxzTFkybnLAFA', 'https://drive.google.com/file/d/1DTQXfjjBDPuDxcHq30G2d0BKpcbGFT6C/view?usp=sharing']}\n",
      "{'title': '¡Vacaciones en un Resort! ¡¿Vegeta ira a un viaje familiar?!', 'season': 1, 'chapter': 2, 'description': '', 'sources': ['https://waaw.to/f/R7ZyEGOSGMV1', 'https://yadi.sk/i/29j7RQooRrD1qQ', 'https://drive.google.com/file/d/1MpV-k8tkYLBKVoLl3gkCZWMv97t5P_L7/view?usp=sharing']}\n",
      "{'title': '¿En donde esta la otra mitad del sueño? ¡Buscando al super sayajin Fase Dios!', 'season': 1, 'chapter': 3, 'description': '', 'sources': ['https://waaw.to/f/w5hlansAP0DI', 'https://yadi.sk/i/1cQIAiUofXqsqg', 'https://drive.google.com/file/d/1lwt72XFaPt-E5Q3fMdtlVtVjmin9bAcm/view?usp=sharing']}\n",
      "{'title': '¡Vamos por las esferas del dragon! ¡La pandilla de Pilaf hacen de la suyas!', 'season': 1, 'chapter': 4, 'description': '', 'sources': ['https://waaw.to/f/esuEcVRnPUuI', 'https://yadi.sk/i/MJ0ejBg60bFO0Q', 'https://drive.google.com/file/d/1x0w68Ap1ymSQbWlfaTHBovRpooKI-q1H/view?usp=sharing']}\n",
      "{'title': '¡La pelea decisiva en el planeta de Kaio Sama! ¡Goku contra el dios de la destrucción, Bills!', 'season': 1, 'chapter': 5, 'description': '', 'sources': ['https://waaw.to/f/v4vTuUidhkmS', 'https://yadi.sk/i/UA2_K6FiRVrnxA', 'https://drive.google.com/file/d/1gUYQe_v8_uGlzJWQTZxLVdeMnyBiS0L_/view?usp=sharing']}\n",
      "{'title': '¡No enfurezcan al dios de la destrucción! ¡Una divertida fiesta de cumpleaños!', 'season': 1, 'chapter': 6, 'description': '', 'sources': ['https://waaw.to/f/7T1ng1XKPVCo', 'https://yadi.sk/i/MvtYvgvgBXwB_Q', 'https://drive.google.com/file/d/1KHedI1SYRLpqBfOno1AGiA2KaqwMO5Ol/view?usp=sharing']}\n",
      "{'title': '¡¿Comó te atreves a tocar a mi Bulma?! ¡El repentino ataque de ira de Vegeta!', 'season': 1, 'chapter': 7, 'description': '', 'sources': ['https://waaw.to/f/hqS88oA13hnA', 'https://yadi.sk/i/c9yL0KfnA0DWuA', 'https://drive.google.com/file/d/1YNineb0XTaGnHglO6d8UqpJfL-oIRggq/view?usp=sharing']}\n",
      "{'title': '¡Gokú regresa! ¿La última oportunidad otorgada por el señor Bills?', 'season': 1, 'chapter': 8, 'description': '', 'sources': ['https://waaw.to/f/hz7EW4zGbEZT', 'https://yadi.sk/i/XlFYUICv5p3reA', 'https://drive.google.com/file/d/1l_wuZoUatiMaDAxPh1cfjc5Rd75-CE_Y/view?usp=sharing']}\n",
      "{'title': 'Lamento la espera, señor Bills. El Super Saiyayjn dios ha aparecido', 'season': 1, 'chapter': 9, 'description': '', 'sources': ['https://waaw.to/f/7jNdhOuIFkBb', 'https://yadi.sk/i/uIrsAfEGcO9LQw', 'https://drive.google.com/file/d/1gZwXYHLeQONTE_w7bwDyOsDxwZtngOYX/view?usp=sharing']}\n",
      "{'title': '¡Desata tu poder, Goku! ¡El poder del super saiyayin fase dios!', 'season': 1, 'chapter': 10, 'description': '', 'sources': ['https://waaw.to/f/YrwEFBJRsKsJ', 'https://yadi.sk/i/Tll-UzB0_cKhSA', 'https://drive.google.com/file/d/16OiaS7UkfS2S-hTVxGsIkSSljqhnFOJT/view?usp=sharing']}\n",
      "{'title': '¡Continuemos, señor Bills! ¡Una pelea entre dioses!', 'season': 1, 'chapter': 11, 'description': '', 'sources': ['https://waaw.to/f/x2pYct624EJe', 'https://yadi.sk/i/fhrOxVBOVhEzgg', 'https://drive.google.com/file/d/11-AZIOLXHYw56kFKd5JIo_wp4zMLihv6/view?usp=sharing']}\n",
      "{'title': '¡El universo se derrumba! ¡Colisión entre el dios de la destrucción y el Super Saiyan fase dios!', 'season': 1, 'chapter': 12, 'description': '', 'sources': ['https://waaw.to/f/Ra029CsLPFVm', 'https://yadi.sk/i/N-T2n6LITFm1pg', 'https://drive.google.com/file/d/1BnHX582riUS2vYjhe3c9N_gJk336qsRi/view?usp=sharing']}\n",
      "{'title': '¡Vamos Goku! ¡Sobrepasa el Super Saiyajin fase dios!', 'season': 1, 'chapter': 13, 'description': '', 'sources': ['https://waaw.to/f/PVIB6JHZYv4B', 'https://yadi.sk/i/eSkRobMw7Rvj3A', 'https://drive.google.com/file/d/1IHfFOPA8Yb9-rNw-e0g-lmFtgQ67C6AK/view?usp=sharing']}\n",
      "{'title': '¡Este es todo el poder que me queda! ¡El desenlace de la batalla entre dioses!', 'season': 1, 'chapter': 14, 'description': '', 'sources': ['https://waaw.to/f/v69T5Awy2RD6', 'https://yadi.sk/i/yLm1CQkpGUWdgA', 'https://drive.google.com/file/d/1eKNNBJitWEppwzLXJuWM_pJ3MGQvg_Mm/view?usp=sharing']}\n",
      "{'title': '¡Satan el héroe, crea un milagro! ¡Un desafío fuera de este mundo!', 'season': 1, 'chapter': 15, 'description': '', 'sources': ['https://waaw.to/f/vkhDFNNXeLDf', 'https://yadi.sk/i/BdrRCCcgM7Iqjw', 'https://drive.google.com/file/d/1UWv-92_1T7HfIXKxQfN0T-vlcXoV2Fbu/view?usp=sharing']}\n",
      "{'title': '¡Vegeta se vuelve un discípulo! ¡A convencer a Whis!', 'season': 1, 'chapter': 16, 'description': '', 'sources': ['https://waaw.to/f/DSHdJhS2OhaH', 'https://yadi.sk/i/vLIoWUxDa82YXQ', 'https://drive.google.com/file/d/14xkPeFPVT-JCPUzGBTaVB1EPnXR1xsZb/view?usp=sharing']}\n",
      "{'title': '¡Pan ha nacido! ¿Goku se va a entrenar?', 'season': 1, 'chapter': 17, 'description': '', 'sources': ['https://waaw.to/f/49qPo1MzJpP3', 'https://yadi.sk/i/-ejWOTK-sKKyDQ', 'https://drive.google.com/file/d/1g4QFcYv3Alj75avdl-lrPNuFFVlvg5pE/view?usp=sharing']}\n",
      "{'title': '¡Ya llegué! ¡Que comience el entrenamiento en el planeta de Bills!', 'season': 1, 'chapter': 18, 'description': '', 'sources': ['https://waaw.to/f/vSuGCantweyo', 'https://yadi.sk/i/T67XXFWRzirt4Q', 'https://drive.google.com/file/d/1x8LLpVoDkvodFToJW07WcJaZaW2QjZtD/view?usp=sharing']}\n",
      "{'title': '¡La angustia regresa! ¡El emperador del mal, la resurrección de Freezer!', 'season': 1, 'chapter': 19, 'description': '', 'sources': ['https://waaw.to/f/RoNeqL8kvloG', 'https://yadi.sk/i/b308a12o17-vrw', 'https://drive.google.com/file/d/1QGqUqSTjhWbUVXqqXPraTgenVIoELJvn/view?usp=sharing']}\n",
      "{'title': '¡La advertencia de Jacko! ¡Freezer y sus 1000 soldados se acercan!', 'season': 1, 'chapter': 20, 'description': '', 'sources': ['https://waaw.to/f/At2UKhqnUX8X', 'https://yadi.sk/i/ZV63EgSIZgGvXg', 'https://drive.google.com/file/d/16vA89Pg2OSg3QW9urOwygzCc8Zw8VI-H/view?usp=sharing']}\n",
      "{'title': '¡Qué comience la venganza! ¡El ejército maligno de Freezer ataca a Gohan!', 'season': 1, 'chapter': 21, 'description': '', 'sources': ['https://waaw.to/f/Zf7XX5FwYb4S', 'https://yadi.sk/i/mq0Gn9pPke-gUw', 'https://drive.google.com/file/d/1j8i9S2DWYuLQ22OAIW-yUNDNZPUgRFLC/view?usp=sharing']}\n",
      "{'title': '¡Cambio! Un inesperado regreso. ¡Y su nombre es Guinyu!', 'season': 1, 'chapter': 22, 'description': '', 'sources': ['https://waaw.to/f/n7H06jDLyHw2', 'https://yadi.sk/i/EKuc8V4ehWNPxA', 'https://drive.google.com/file/d/1IZsWnlrYbY6EiU8KiLIQuCJum5vz70hC/view?usp=sharing']}\n",
      "{'title': '¡La Tierra!, ¡Gohan! ¡Corren peligro! ¡Date prisa y regresa Goku!', 'season': 1, 'chapter': 23, 'description': '', 'sources': ['https://waaw.to/f/09QkjZQT0Kve', 'https://yadi.sk/i/C4sFiBG2AlRmBA', 'https://drive.google.com/file/d/1H5KMuILCzvZIlhK4Dq6awjRK-NKss7yE/view?usp=sharing']}\n",
      "{'title': '¡El enfrentamiento entre Freezer y Gokú! ¡Este es el resultado de mi entrenamiento!', 'season': 1, 'chapter': 24, 'description': '', 'sources': ['https://waaw.to/f/A44aFXdNwjAp', 'https://yadi.sk/i/NEV6O-pDhwvpsQ', 'https://drive.google.com/file/d/1XfHfZHU6wtnt3bHeAc_GkoFR2pxVi12a/view?usp=sharing']}\n",
      "{'title': '¡Una batalla a muerte! ¡La venganza de Golden Freezer!', 'season': 1, 'chapter': 25, 'description': '', 'sources': ['https://waaw.to/f/DRwxekQKcw2q', 'https://yadi.sk/i/lSjgkZ5nA9y3hg', 'https://drive.google.com/file/d/1R-ZwZMrcbE530TCsNHgELVNIEYa5_o53/view?usp=sharing']}\n",
      "{'title': '¡La ultima oportunidad en un momento difícil! ¡Es hora de contraatacar Goku!', 'season': 1, 'chapter': 26, 'description': '', 'sources': ['https://waaw.to/f/3XTx0bNzi7tp', 'https://yadi.sk/i/7Y1bIk5-WuASSA', 'https://drive.google.com/file/d/1qwrmk1FChdybqqr4ayxH9Lset2SXl_kK/view?usp=sharing']}\n",
      "{'title': '¿La Tierra va a estallar? ¡El Kame Hame Ha definitivo!', 'season': 1, 'chapter': 27, 'description': '', 'sources': ['https://waaw.to/f/drf7FGD3IwLs', 'https://yadi.sk/i/vxtRdutyGKIL0A', 'https://drive.google.com/file/d/1Pl1IFeeEWRWlESlhomSvoNIC_I6dghGo/view?usp=sharing']}\n",
      "{'title': 'El dios de la destrucción del Universo 6. Y su nombre es Champa', 'season': 1, 'chapter': 28, 'description': '', 'sources': ['https://waaw.to/f/qLuA0XJZNJGF', 'https://yadi.sk/i/irLjDU9bJVtZ2w', 'https://drive.google.com/file/d/1NFTd50PDO3apsoNeK_ODQ-XrrRoWq6BS/view?usp=sharing']}\n",
      "{'title': '¡El Torneo de las Artes Marciales da inicio! ¡El capitán del equipo es más fuerte que Goku!', 'season': 1, 'chapter': 29, 'description': '', 'sources': ['https://waaw.to/f/Yb31xvypzGUo', 'https://yadi.sk/i/f-SM7aN6tOKd7g', 'https://drive.google.com/file/d/1ROhnlYS4bDCwdjJMRj9fUcHxdh7uR4H2/view?usp=sharing']}\n",
      "{'title': '¡Los últimos detalles para el Torneo de Artes Marciales! ¿Quiénes serán los otros 2 miembros?', 'season': 1, 'chapter': 30, 'description': '', 'sources': ['https://waaw.to/f/vytpOMszKDZA', 'https://yadi.sk/i/-DgE84YyBbbaIw', 'https://drive.google.com/file/d/1e2dnwiGpga75jRnyX1DhthQM6N4_5QBM/view?usp=sharing']}\n",
      "{'title': '¡Vayamos con el gran Zuno! ¡Preguntémosle en dónde están las Super Esferas de Dragón!', 'season': 1, 'chapter': 31, 'description': '', 'sources': ['https://waaw.to/f/twtnRr6knEu5', 'https://yadi.sk/i/loPzQ7uLi9Rx8Q', 'https://drive.google.com/file/d/1FF7S_9Q-iG52AHo1JV3y5Pdvp3aVJfiO/view?usp=sharing']}\n",
      "{'title': '¡Comienza el torneo! ¡Vayamos todos al planeta donde no hay nada!', 'season': 1, 'chapter': 32, 'description': '', 'sources': ['https://waaw.to/f/d8LHBkyMoPVa', 'https://yadi.sk/i/ApPV_Pjh_7kNxA', 'https://drive.google.com/file/d/1XW99PPTb60iLfM9HXvglN6NmAZsFu-F4/view?usp=sharing']}\n",
      "{'title': '¡Prepárense universo 6! ¡Este es el súper sayayin Goku!', 'season': 1, 'chapter': 33, 'description': '', 'sources': ['https://waaw.to/f/P3wZMXzHPX2E', 'https://yadi.sk/i/d9_mS1hDfWqE4A', 'https://drive.google.com/file/d/1KXxP71kw3nc_ONl7EpNhASkpjdTezgcn/view?usp=sharing']}\n",
      "{'title': '¡Piccoro enfrenta a Frost! ¡Concentra todo tu poder en el Makankou Sappo!', 'season': 1, 'chapter': 34, 'description': '', 'sources': ['https://waaw.to/f/tdgyfSCmhJ7Q', 'https://yadi.sk/i/o0PkLvs9K6GpCw', 'https://drive.google.com/file/d/1tyCAFZ_EJ1JMl-Ym-ZzcndSl3k7E5rt1/view?usp=sharing']}\n",
      "{'title': '¡Transforma tu ira en fuerza! ¡Vegeta utiliza su máximo poder en la pelea!', 'season': 1, 'chapter': 35, 'description': '', 'sources': ['https://waaw.to/f/gT7wRYLuliCO', 'https://yadi.sk/i/qQs5FfefpH0Ofg', 'https://drive.google.com/file/d/1AGsOuGT0g_0Io1zFThh8MD4XbhmQFcvt/view?usp=sharing']}\n",
      "{'title': '¡Una batalla imposible de ganar! ¡El estallido de furia de Vegeta!', 'season': 1, 'chapter': 36, 'description': '', 'sources': ['https://waaw.to/f/uJFh8Y4DOAhb', 'https://yadi.sk/i/Dtf_w1e3_qjKvw', 'https://drive.google.com/file/d/14Sk1FJnk5ISx_gmyS-MEv9kuVwd_GpJc/view?usp=sharing']}\n",
      "{'title': 'No olvides tu orgullo como Saiyajin! ¡Vegeta contra el Saiyajin del Universo 6!', 'season': 1, 'chapter': 37, 'description': '', 'sources': ['https://waaw.to/f/M2WCkPOUOkMX', 'https://yadi.sk/i/S8OhAeLDWB7vDg', 'https://drive.google.com/file/d/1FYPfLyKjts-XKCHA8AexdMzvyffaK_AA/view?usp=sharing']}\n",
      "{'title': '¡El mejor guerrero del Universo 6! ¡El asesino Hit aparece!', 'season': 1, 'chapter': 38, 'description': '', 'sources': ['https://waaw.to/f/YCBoJXl7uysn', 'https://yadi.sk/i/XU5w2Hb5WjXQfA', 'https://drive.google.com/file/d/1rlA5d3NvJw0r893s7STxMViQ9bQjd0-D/view?usp=sharing']}\n",
      "{'title': '¡El salto en el tiempo mejorado y la nueva técnica de Gokú!', 'season': 1, 'chapter': 39, 'description': '', 'sources': ['https://waaw.to/f/gnfIxmzRGv9G', 'https://yadi.sk/i/vX5mqkFFoX7Vtg', 'https://drive.google.com/file/d/1ENPATYPFrFQr8gvZv7JBqUMhQLrXjBs-/view?usp=sharing']}\n",
      "{'title': '¡El Torneo se termina! ¿El ganador será Bills o Champa?', 'season': 1, 'chapter': 40, 'description': '', 'sources': ['https://waaw.to/f/rFqIrzuPuGkO', 'https://yadi.sk/i/JpO1Hgvp2HjAbw', 'https://drive.google.com/file/d/16-axFneFlb4BGEGxiLWeJM-PipK6BVAF/view?usp=sharing']}\n",
      "{'title': '¡Sal de ahí, Dios de los dragones y concédeme un deseo!¡Chonmague!', 'season': 1, 'chapter': 41, 'description': '', 'sources': ['https://waaw.to/f/99LieUPOfvpp', 'https://yadi.sk/i/V1Ubwo_tOj2Dzg', 'https://drive.google.com/file/d/1DdjlxRe_fK8yo1ta1CtK4eNXDlMrhggu/view?usp=sharing']}\n",
      "{'title': '¡La problemática celebración por la victoria! ¡Monaka contra Gokú!', 'season': 1, 'chapter': 42, 'description': '', 'sources': ['https://waaw.to/f/JwbIP90TaNp1', 'https://yadi.sk/i/2MMxsaba_WqDjA', 'https://drive.google.com/file/d/15IzqHQdsRQLS-1-NGSdym8wasacLvb6M/view?usp=sharing']}\n",
      "{'title': '¿El ki de Gokú está fuera de control? ¡La terrible tarea de cuidar a Pan!', 'season': 1, 'chapter': 43, 'description': '', 'sources': ['https://waaw.to/f/6ceYKF8K5MLj', 'https://yadi.sk/i/kPYCpuUrP9jugQ', 'https://drive.google.com/file/d/1O6YsJNUsPMnllJ_HZNJ5FvyZTE8fOLDY/view?usp=sharing']}\n",
      "{'title': '¡El sello del planeta Pot-Au-Feu! ¡El secreto del agua sobrenatural es descubierto!', 'season': 1, 'chapter': 44, 'description': '', 'sources': ['https://waaw.to/f/c6ixHVmp8oHZ', 'https://yadi.sk/i/M-vSfhwHFlIpGA', 'https://drive.google.com/file/d/1NtjyzBSPnUU19Ysij-9vHudz5R7WPtRV/view?usp=sharing']}\n",
      "{'title': '¿Vegeta está desapareciendo? ¡La copia de Vegeta se vuelve una amenaza!', 'season': 1, 'chapter': 45, 'description': '', 'sources': ['https://waaw.to/f/QmRJzzb4wOag', 'https://yadi.sk/i/VdDD4dmIGxHG4g', 'https://drive.google.com/file/d/1eWFk-eulxmJ3VCoZjviAzOOg7h6aSU1f/view?usp=sharing']}\n",
      "{'title': '¡Gokú contra la copia de Vegeta! ¿Quién de los dos ganará?', 'season': 1, 'chapter': 46, 'description': '', 'sources': ['https://waaw.to/f/ZZ2TvgVKjfVO', 'https://yadi.sk/i/C21_2vXMmkeg1w', 'https://drive.google.com/file/d/1v4nZF64Ks_27xXFTT-A1xulSAgcfuEHz/view?usp=sharing']}\n",
      "{'title': '¡Llamada de auxilio del futuro! ¡Un nuevo enemigo aparece!', 'season': 1, 'chapter': 47, 'description': '', 'sources': ['https://waaw.to/f/gdzEWlULh46H', 'https://yadi.sk/i/A_ImGaRSL4s_OA', 'https://drive.google.com/file/d/1u6RNCApK33z4vxbG_aWSLv4BLqQi0T5n/view?usp=sharing']}\n",
      "{'title': '¡Una vez más surge la esperanza! ¡Trunks despierta en el presente!', 'season': 1, 'chapter': 48, 'description': '', 'sources': ['https://waaw.to/f/yauLm9htFcgm', 'https://yadi.sk/i/xIWtiIfsEveiCA', 'https://drive.google.com/file/d/15icLGECoIO2w5sIpBp02-kHFHKxQOlmU/view?usp=sharing']}\n",
      "{'title': 'Un mensaje del futuro. ¡Goku Black ataca!', 'season': 1, 'chapter': 49, 'description': '', 'sources': ['https://waaw.to/f/zD3BhlHvAkOE', 'https://yadi.sk/i/HwbqXJj17Yqfpg', 'https://drive.google.com/file/d/1MW72c7XyZEJ59n6n7MUJo9AmofwQ2R4-/view?usp=sharing']}\n",
      "{'title': '¡Gokú contra Black! ¡El camino al futuro es obstruído!', 'season': 1, 'chapter': 50, 'description': '', 'sources': ['https://waaw.to/f/AetemohVOKCa', 'https://yadi.sk/i/QDQ25S6aUq3e_A', 'https://drive.google.com/file/d/1S_MyF0NKwIy7wFTXGbpMQwKUsfJSh9TH/view?usp=sharing']}\n",
      "{'title': '¡Sentimientos que superan el tiempo! ¡Trunks y Mai!', 'season': 1, 'chapter': 51, 'description': '', 'sources': ['https://waaw.to/f/TQOmMjNgrZT6', 'https://yadi.sk/i/2ag4VG02CUIfag', 'https://drive.google.com/file/d/1e_ps0TwSZwqB9o69iyzNECtlVG2iGC9R/view?usp=sharing']}\n",
      "{'title': '¡La reunión entre el maestro y su discípulo! ¡Gohan y Trunks del Futuro!', 'season': 1, 'chapter': 52, 'description': '', 'sources': ['https://waaw.to/f/gis14ujXH24K', 'https://yadi.sk/i/5zqfzru5o8-F5A', 'https://drive.google.com/file/d/11DFWcYlZz_Hejy81IDV7mU0DSbo6fH12/view?usp=sharing']}\n",
      "{'title': '¡La identidad de Black ha sido descubierta! !Vayamos al mundo de los Supremos Kaio-Sama del Universo 10!', 'season': 1, 'chapter': 53, 'description': '', 'sources': ['https://waaw.to/f/amCKAG11ZqVl', 'https://yadi.sk/i/QOSXeMOe0UkLow', 'https://drive.google.com/file/d/12_ixhCDqwfR01UORdYjNm9NlR5aZpj-S/view?usp=sharing']}\n",
      "{'title': '¡Aquel que hereda el linaje saiyajin! ¡La decisión de Trunks!', 'season': 1, 'chapter': 54, 'description': '', 'sources': ['https://waaw.to/f/VGq3Rr6msxNr', 'https://yadi.sk/i/88vAO_mcqg5pwg', 'https://drive.google.com/file/d/1v3GE4HtyXdrXVaJECU8xldniWaeGE-U5/view?usp=sharing']}\n",
      "{'title': \"¡Quiero ver a Son Gokú, ¿sí?! ¡La orden de Zen'o Sama!\", 'season': 1, 'chapter': 55, 'description': '', 'sources': ['https://waaw.to/f/33eN3tKnXobB', 'https://yadi.sk/i/gch1SjSvdBLsgw', 'https://drive.google.com/file/d/1WnNDgs4_hY0RbvAQWn5dDKVqqtoR_lQP/view?usp=sharing']}\n",
      "{'title': '¡La revancha contra Gokú Black! ¡El Súper Saiyajin Rosé aparece!', 'season': 1, 'chapter': 56, 'description': '', 'sources': ['https://waaw.to/f/5S7XDc9K6xTd', 'https://yadi.sk/i/JdSzD3u1oKLliQ', 'https://drive.google.com/file/d/1cWheeqsarAB3V3lLu7W1kcmz37KGL02I/view?usp=sharing']}\n",
      "{'title': '¡El Dios con un cuerpo inmortal! ¡Zamas desciende!', 'season': 1, 'chapter': 57, 'description': '', 'sources': ['https://waaw.to/f/tbUw3dPNVCDu', 'https://yadi.sk/i/2qD7HGlKS1OLnQ', 'https://drive.google.com/file/d/1DC6HLlx-0jLYul3xZuHPts9_KbUbx9lK/view?usp=sharing']}\n",
      "{'title': '¡Zamas y Black! ¡El misterio de los dos aumenta!', 'season': 1, 'chapter': 58, 'description': '', 'sources': ['https://waaw.to/f/WRFvn6zdXvga', 'https://yadi.sk/i/OfdiVQx4RUXheA', 'https://drive.google.com/file/d/12hCZ7qlg8yqLAYYXwAXgqVFydDyBmCMo/view?usp=sharing']}\n",
      "{'title': '¡Hay que proteger al Supremo Kaio-Sama, Gowas! ¡Acabemos con Zamas!', 'season': 1, 'chapter': 59, 'description': '', 'sources': ['https://waaw.to/f/UEHDC4kTFJhe', 'https://yadi.sk/i/Oc0TD_-Zzh2ufw', 'https://drive.google.com/file/d/1J2zHzBSaDl_hdgBUm5oq_LmwNtDlusdg/view?usp=sharing']}\n",
      "{'title': '¡De nuevo al futuro! ¡La verdadera identidad de Gokú Black!', 'season': 1, 'chapter': 60, 'description': '', 'sources': ['https://waaw.to/f/qIavz8UaRrqU', 'https://yadi.sk/i/zlqQuIlMtYPVOw', 'https://drive.google.com/file/d/1boiizgAhCjxcMXaLSxxh8lxUHNjj_nJL/view?usp=sharing']}\n",
      "{'title': '¡La ambición de Zamas! ¡El terrorífico Plan Cero Humanos es descubierto!', 'season': 1, 'chapter': 61, 'description': '', 'sources': ['https://waaw.to/f/mjvwHgELVwyO', 'https://yadi.sk/i/lrZltgvBO-Ws2g', 'https://drive.google.com/file/d/1v4C5tWHTcDcuMZZQ4rEKmNVKoV0cArUQ/view?usp=sharing']}\n",
      "{'title': '¡Protegeré al mundo! ¡El super poder de la furia de Trunks, Estalla!', 'season': 1, 'chapter': 62, 'description': '', 'sources': ['https://waaw.to/f/YMYah6Efhm7O', 'https://yadi.sk/i/YLkYqDAYCSYyEA', 'https://drive.google.com/file/d/1oXztnpYT_9HkppLf-ldnz9a3S_ZsCjMg/view?usp=sharing']}\n",
      "{'title': '¡Jamás le faltes el respeto a las células de un saiyajin! ¡Que comience la batalla épica de Vegeta!', 'season': 1, 'chapter': 63, 'description': '', 'sources': ['https://waaw.to/f/A9ozUW0GHejX', 'https://yadi.sk/i/l_QFObUmjoittA', 'https://drive.google.com/file/d/1vKICVaRQXgED9SM0t5L7UUwn_Lndx6kP/view?usp=sharing']}\n",
      "{'title': '¡Venérenlo! ¡Adórenlo! ¡La fusión estremecedora de Zamas!', 'season': 1, 'chapter': 64, 'description': '', 'sources': ['https://waaw.to/f/5O7Mk3GGPtDT', 'https://yadi.sk/i/rfHUEdTddckVRg', 'https://drive.google.com/file/d/1Tq8NTO43D2TU5Q6XrsJzaSpAQ5uI14Bk/view?usp=sharing']}\n",
      "{'title': '¿El juicio final? ¡El supremo poder de un Dios absoluto!', 'season': 1, 'chapter': 65, 'description': '', 'sources': ['https://waaw.to/f/ZoFb8b9uQRFm', 'https://yadi.sk/i/pUtLZJsZ9ePSEw', 'https://drive.google.com/file/d/1oNsknq0yX44-PsUnOoVOfh0k9cuFXq8J/view?usp=sharing']}\n",
      "{'title': '¡La batalla llega a su fin! ¡El milagroso poder de guerreros incansables!', 'season': 1, 'chapter': 66, 'description': '', 'sources': ['https://waaw.to/f/CSWqauZrqEea', 'https://yadi.sk/i/MekW1aR8kP4OUQ', 'https://drive.google.com/file/d/1PCTo2FrGFRqSaA--6sRuoCQM4fsxLeGy/view?usp=sharing']}\n",
      "{'title': '¡Una nueva esperanza! ¡Siempre estarán en nuestro corazón! ¡Adiós Trunks!', 'season': 1, 'chapter': 67, 'description': '', 'sources': ['https://waaw.to/f/AkyWiH5n1j85', 'https://yadi.sk/i/o8KleWcMSP2xzA', 'https://drive.google.com/file/d/1tmmWbsP_a5VXulF-CNe2cA-D4jU9urhE/view?usp=sharing']}\n",
      "{'title': '¡Sal de ahí Shenlong! ¿Cuál de todos los deseos será cumplido?', 'season': 1, 'chapter': 68, 'description': '', 'sources': ['https://waaw.to/f/fgXVIdBb3TZk', 'https://yadi.sk/i/BE37Ms8s2yGBvg', 'https://drive.google.com/file/d/1TsBB-00__O5vGk63jKwbDhKMAlcLOP9S/view?usp=sharing']}\n",
      "{'title': '¡Goku contra Aralé! ¡¿Una batalla desastrosa que acabará con la tierra?!', 'season': 1, 'chapter': 69, 'description': '', 'sources': ['https://waaw.to/f/ATR8J0p6fHBI', 'https://yadi.sk/i/GTwatuxNdzhjMw', 'https://drive.google.com/file/d/1GT_jUdNKLU8kObfxurh6JOQmDE0rkLYK/view?usp=sharing']}\n",
      "{'title': '!El desafió de Champa! !Esta vez nos enfrentaremos en juego de baseball!', 'season': 1, 'chapter': 70, 'description': '', 'sources': ['https://waaw.to/f/GqQ0K4wrwCdI', 'https://yadi.sk/i/J8nDR-yqFfd8Pg', 'https://drive.google.com/file/d/1QageoGnE9hirGjoPa_mE6-_iU96LmEN_/view?usp=sharing']}\n",
      "{'title': '¡La muerte de Goku! una misión de asesinato garantizada', 'season': 1, 'chapter': 71, 'description': '', 'sources': ['https://waaw.to/f/SS043gzFNp14', 'https://yadi.sk/i/kyY1tdun9xi8TA', 'https://drive.google.com/file/d/1wqeLJhXiKthgT4EcoL2LMecr9MId8RpM/view?usp=sharing']}\n",
      "{'title': '¿Habrá un contraataque? ¡El golpe mortal invisible!', 'season': 1, 'chapter': 72, 'description': '', 'sources': ['https://waaw.to/f/bX8qizFwwgcY', 'https://yadi.sk/i/86Vf3eTN-OvHTg', 'https://drive.google.com/file/d/1IYyEMCnA0QmDQWIycydnmW_OhdkCFULv/view?usp=sharing']}\n",
      "{'title': '¡La mala suerte de Gohan! ¡¿El gran saiyaman tendrá su propia película?!', 'season': 1, 'chapter': 73, 'description': '', 'sources': ['https://waaw.to/f/MgEO3ttsq8fn', 'https://yadi.sk/i/7hjshEF_UtGjBA', 'https://drive.google.com/file/d/1Ilubq_fyNlFqraLhY9BtPBhwom-yQCIU/view?usp=sharing']}\n",
      "{'title': '¡Lucha por nuestros seres queridos! ¡El gran Saiyaman es invencible!', 'season': 1, 'chapter': 74, 'description': '', 'sources': ['https://waaw.to/f/rVMCuHzmJJfV', 'https://yadi.sk/i/7XIzOEI45XTiTQ', 'https://drive.google.com/file/d/1G2FuGADEHLg_fYE7wnQRoTc5pIc15dDj/view?usp=sharing']}\n",
      "{'title': 'Goku y Krillin de vuelta al antiguo lugar de entrenamiento.', 'season': 1, 'chapter': 75, 'description': '', 'sources': ['https://waaw.to/f/TZeDI6MUZ6tT', 'https://yadi.sk/i/dNIP1SAC62EB5g', 'https://drive.google.com/file/d/1LTDAR3572STahT0g_4CxsHEiNrIIfUhl/view?usp=sharing']}\n",
      "{'title': '¡Derrotemos a los temibles enemigos! ¡Krillin recupera su espíritu guerrero!', 'season': 1, 'chapter': 76, 'description': '', 'sources': ['https://waaw.to/f/XANBOCuFoZjs', 'https://yadi.sk/i/GwrRwZBv7TAn9g', 'https://drive.google.com/file/d/1jpG5PHgL98dmiIMRTTSKzt6B3Gs9Hl6Y/view?usp=sharing']}\n",
      "{'title': '¡Manos a la obra Zen oo Sama! ¡El torneo de las artes marciales de todos los universos!', 'season': 1, 'chapter': 77, 'description': '', 'sources': ['https://waaw.to/f/LpTdRpngiZ3C', 'https://yadi.sk/i/pC-VUAlWQaaJkQ', 'https://drive.google.com/file/d/19CEsDHGCAmVLTfkrjezL6Icxe2pK5_1K/view?usp=sharing']}\n",
      "{'title': '¡¿Los dioses de cada universo están impactados?! Los perdedores del torneo de la fuerza serán aniquilados', 'season': 1, 'chapter': 78, 'description': '', 'sources': ['https://waaw.to/f/KE6egrDJ1cco', 'https://yadi.sk/i/a7RZOWBk0jeTUA', 'https://drive.google.com/file/d/1vkN98mRQ_FIOkOQyg5sKaxodn1enPNPI/view?usp=sharing']}\n",
      "{'title': '¡Basil el pateador del Universo 9 contra Majin Buu del Universo 7!', 'season': 1, 'chapter': 79, 'description': '', 'sources': ['https://waaw.to/f/0LmfvGP5fAfT', 'https://yadi.sk/i/nM8iW61fThXspw', 'https://drive.google.com/file/d/1f9TbAUQCfIH2PjXYXj2ZBTSA78fpeTzV/view?usp=sharing']}\n",
      "{'title': '¡Despierta tu Espíritu Guerrero! ¡¡La pelea de Son Gohan!!', 'season': 1, 'chapter': 80, 'description': '', 'sources': ['https://waaw.to/f/dGFaerWVsCq5', 'https://yadi.sk/i/Yy6Jx-WagiY1sQ', 'https://drive.google.com/file/d/17XrBtEjsAfWI1HJAO6Ou_qWiTSn8BmM1/view?usp=sharing']}\n",
      "{'title': '¡Bergamo el demoledor contra Son Goku! ¡¿Quién de los dos posee un poder ilimitado?!', 'season': 1, 'chapter': 81, 'description': '', 'sources': ['https://waaw.to/f/ALorLqYwUP4E', 'https://yadi.sk/i/1ex6DyYEsIq33w', 'https://drive.google.com/file/d/1tLcYn2WZNyggfZOnpurrmacud-yldvpt/view?usp=sharing']}\n",
      "{'title': '¡No perdonaré a Goku! ¡¡Toppo el guerrero de la justicia se entromete!!', 'season': 1, 'chapter': 82, 'description': '', 'sources': ['https://waaw.to/f/JuZEDZq5wb1V', 'https://yadi.sk/i/Pn84wENEUajIkw', 'https://drive.google.com/file/d/1lxxxWqKD-keQ7-bMDu5Ao57m9-EIXMBO/view?usp=sharing']}\n",
      "{'title': '¡A reunir el equipo que representará al Universo 7! ¡¿Quiénes son los 10 más fuertes?!', 'season': 1, 'chapter': 83, 'description': '', 'sources': ['https://waaw.to/f/ACxXIMMDF2XA', 'https://yadi.sk/i/jpwqN2kIeUsGGA', 'https://drive.google.com/file/d/1OTu63tMwJc3oxYcv1FTg1W46HOJ3aH7K/view?usp=sharing']}\n",
      "{'title': 'El reclutador Goku invita a Krillin y a A 18', 'season': 1, 'chapter': 84, 'description': '', 'sources': ['https://waaw.to/f/OjAu1SOzFo9P', 'https://yadi.sk/i/gK8X-gToFLJsWQ', 'https://drive.google.com/file/d/1p9Z94MuPMmfBEssMO8GlF9FRnWvPRCpL/view?usp=sharing']}\n",
      "{'title': 'Los universos mueven sus piezas, los motivos de cada uno', 'season': 1, 'chapter': 85, 'description': '', 'sources': ['https://waaw.to/f/R4HNe1Gb9Tnj', 'https://yadi.sk/i/z6ByQH242LBaNQ', 'https://drive.google.com/file/d/15LakGYn7y4YRE60ia2tDdj6T_l5ALXKV/view?usp=sharing']}\n",
      "{'title': '¡Nuestros puños se cruzan por primera vez! ¡El androide 17 contra Goku!', 'season': 1, 'chapter': 86, 'description': '', 'sources': ['https://waaw.to/f/Zyc1vtbDxCwl', 'https://yadi.sk/i/lw-MjrUbNH3GAw', 'https://drive.google.com/file/d/1c-_tmFj03kXRyEdnj7kxSJUzywht74Pm/view?usp=sharing']}\n",
      "{'title': '¡Cazando a los cazadores! ¡Goku y 17 unen fuerzas!', 'season': 1, 'chapter': 87, 'description': '', 'sources': ['https://waaw.to/f/pcsiUxoNiffl', 'https://yadi.sk/i/2BV7IGluRxurFQ', 'https://drive.google.com/file/d/1M1xaKPbx_aENL_7ICrSFhDZZjslfT2VX/view?usp=sharing']}\n",
      "{'title': 'Gohan y Piccolo. ¡El maestro y su discípulo tienen un entrenamiento extremo!', 'season': 1, 'chapter': 88, 'description': '', 'sources': ['https://waaw.to/f/Jt0Jquzhi08W', 'https://yadi.sk/i/Uwz3FT9_kYmskg', 'https://drive.google.com/file/d/12376LoZUtx2bJ636zvTQ-w8WJKlhc6LN/view?usp=sharing']}\n",
      "{'title': '¡Una misteriosa belleza aparece! ¡¿Los dojos del estilo Ten Shin guardan un secreto?!', 'season': 1, 'chapter': 89, 'description': '', 'sources': ['https://waaw.to/f/Ui3xQ4Q3OKsO', 'https://yadi.sk/i/1Zhx1TP7TFUJcg', 'https://drive.google.com/file/d/1INngrs3xEmUABnyfv9yjaTjSlclQAw8M/view?usp=sharing']}\n",
      "{'title': '¡Observa el muro que debes superar! Goku contra Gohan', 'season': 1, 'chapter': 90, 'description': '', 'sources': ['https://waaw.to/f/zPxb6snqVDv6', 'https://yadi.sk/i/FR66rO11Xdpvyg', 'https://drive.google.com/file/d/1WueOSgWSYaqqzVfP98f9a9bEpbqGZzhD/view?usp=sharing']}\n",
      "{'title': '¡¿Qué Universo sobrevivirá?! ¡Los guerreros más fuertes se reúnen!', 'season': 1, 'chapter': 91, 'description': '', 'sources': ['https://waaw.to/f/6UYC6zJ7EYzk', 'https://yadi.sk/i/1T1G5bNWgZwe2Q', 'https://drive.google.com/file/d/1dV4H7zDP1BsIwQuYvIVigJBSWobyOZ1W/view?usp=sharing']}\n",
      "{'title': '¡Situación de emergencia! ¡El equipo de 10 miembros está incompleto!', 'season': 1, 'chapter': 92, 'description': '', 'sources': ['https://waaw.to/f/YGI6GVC6TTys', 'https://yadi.sk/i/Slihd7o4Wa_6zA', 'https://drive.google.com/file/d/1z1kOL4IxFB4t9-J6NEDWGoDAMceG1Uuw/view?usp=sharing']}\n",
      "{'title': '¡Tú eres el décimo miembro! ¡Goku visita a Freezer!', 'season': 1, 'chapter': 93, 'description': '', 'sources': ['https://waaw.to/f/FKd32q6Wwp3a', 'https://yadi.sk/i/MyTr37Tkbl74gg', 'https://drive.google.com/file/d/13dkET8mKY3Xe_HCd3tuJs2Gg2RVC-Oh4/view?usp=sharing']}\n",
      "{'title': '¡El emperador del mal está de vuelta! ¡¿Unos misteriosos asesinos nos dan la bienvenida?!', 'season': 1, 'chapter': 94, 'description': '', 'sources': ['https://waaw.to/f/wbN4RHzGwsC8', 'https://yadi.sk/i/kqBAiIRe2_t8FA', 'https://drive.google.com/file/d/1IQI-bWOQVDfh-lr7eD7-b4Oa1n4DeKh2/view?usp=sharing']}\n",
      "{'title': '¡El cruel, el despiadado! ¡Freezer provoca un exterminio!', 'season': 1, 'chapter': 95, 'description': '', 'sources': ['https://waaw.to/f/xTduIjdDd6kB', 'https://yadi.sk/i/wAbmr698stzzIA', 'https://drive.google.com/file/d/1XgJVpoNxC_BEWALTmgvu59hkTZ06CHI0/view?usp=sharing']}\n",
      "{'title': '¡Llegó la hora! ¡Hacia el mundo de la nada, donde se decidirá el destino del universo!', 'season': 1, 'chapter': 96, 'description': '', 'sources': ['https://waaw.to/f/wwrYiZU22Lbm', 'https://yadi.sk/i/N8UnjEHSxUhnnw', 'https://drive.google.com/file/d/102a6xlZxwzxLWkyOWToG2l1P4nJ-MK7u/view?usp=sharing']}\n",
      "{'title': '¡Sobrevive! ¡Al fin empieza el Torneo de la Fuerza!', 'season': 1, 'chapter': 97, 'description': '', 'sources': ['https://waaw.to/f/NkKlp6FdQkkR', 'https://yadi.sk/i/PRYpewvSApxvdA', 'https://drive.google.com/file/d/1eCGKMvu5WCFWvgHefVROAC-rmkmraThA/view?usp=sharing']}\n",
      "{'title': '¡Ah, la incertidumbre! ¡La desesperación de un universo!', 'season': 1, 'chapter': 98, 'description': '', 'sources': ['https://waaw.to/f/kuEKh7vNyYDl', 'https://yadi.sk/i/khIRiWrQcPyTiw', 'https://drive.google.com/file/d/1YSLrn9ZGSUwdpZ-VO51G7XDHx_HZPTbS/view?usp=sharing']}\n",
      "{'title': '¡Demuéstrales! ¡El verdadero poder de Krillin!', 'season': 1, 'chapter': 99, 'description': '', 'sources': ['https://waaw.to/f/scrHsiAUs0I7', 'https://yadi.sk/i/fxtTzJxZOqvwkQ', 'https://drive.google.com/file/d/1LzBzv2q0txbijYKot-HhOPpGTouOjivw/view?usp=sharing']}\n",
      "{'title': '¡Fuera de control! ¡El despertar de la furia total de una guerrera!', 'season': 1, 'chapter': 100, 'description': '', 'sources': ['https://waaw.to/f/9fDFO1gkOCld', 'https://yadi.sk/i/g8w55pBCi8CVFw', 'https://drive.google.com/file/d/1LzBzv2q0txbijYKot-HhOPpGTouOjivw/view?usp=sharing']}\n",
      "{'title': '¡Los implacables guerreros de la justicia! ¡Las Tropas del Orgullo!', 'season': 1, 'chapter': 101, 'description': '', 'sources': ['https://waaw.to/f/tm2uJYES9WEZ', 'https://yadi.sk/i/lMwg9vKy4j4yUw', 'https://drive.google.com/file/d/1HOQ16StjmtoX8oS7-Ok2086ey-5QHAAj/view?usp=sharing']}\n",
      "{'title': '¡¿El poder del amor estalla?! ¡Las brujitas guerreras del Universo 2!', 'season': 1, 'chapter': 102, 'description': '', 'sources': ['https://waaw.to/f/cSsZtNKUmkkP', 'https://yadi.sk/i/O8MKBgAwM-zhOw', 'https://drive.google.com/file/d/1ym2C3sQiYiLT2yc37zTCPPe6oj6RSD4m/view?usp=sharing']}\n",
      "{'title': '¡Gohan se vuelve despiadado! ¡El enfrentamiento contra el Universo 10!', 'season': 1, 'chapter': 103, 'description': '', 'sources': ['https://waaw.to/f/iOcnyBaQ2OEv', 'https://yadi.sk/i/L7Vf3oeisuttQg', 'https://drive.google.com/file/d/1qnbyQmTC_Dl5cAs-bNKSJ04sXX9JBEfq/view?usp=sharing']}\n",
      "{'title': '¡La genuina batalla de ultra velocidad empieza! ¡Gokú y Hit unen fuerzas!', 'season': 1, 'chapter': 104, 'description': '', 'sources': ['https://waaw.to/f/9cfU9eB3ASCq', 'https://yadi.sk/i/0JH98zw9D6ZznQ', 'https://drive.google.com/file/d/13S326YcrIm5bjTR99GIoAniFpSjyZ0WY/view?usp=sharing']}\n",
      "{'title': '¡Una ardua batalla! ¡El maestro Roshi se arriesga!', 'season': 1, 'chapter': 105, 'description': '', 'sources': ['https://waaw.to/f/KMQIIqwgKzGY', 'https://yadi.sk/i/AfJsZLgHiXXgtw', 'https://drive.google.com/file/d/1H2V6LKcEu_vn04-2ztqe9BxhqUCSp3yJ/view?usp=sharing']}\n",
      "{'title': '¡Hay que encontrarlo! ¡Una batalla a muerte en contra de un atacante invisible!', 'season': 1, 'chapter': 106, 'description': '', 'sources': ['https://waaw.to/f/An2pvaj3IAHw', 'https://yadi.sk/i/j1rLFHdx_iYLAA', 'https://drive.google.com/file/d/1Bq6croxBVwrSl2bFvNKbjVbqVYsxWw-g/view?usp=sharing']}\n",
      "{'title': '¡Venganza de \"F\"! ¡¿Una trampa ingeniosa?!', 'season': 1, 'chapter': 107, 'description': '', 'sources': ['https://waaw.to/f/j4Mk8Zr6bhwn', 'https://yadi.sk/i/jPDZp6EHUW8gnw', 'https://drive.google.com/file/d/1TnkEhZN98oe2y71x6ZFU9z9Ovsz-jYGH/view?usp=sharing']}\n",
      "{'title': '¡Freezer y Frost! ¡¿Una alianza malvada?!', 'season': 1, 'chapter': 108, 'description': '', 'sources': ['https://waaw.to/f/UcJtlwnaNzp5', 'https://yadi.sk/i/ffZxhlHu5ab1cQ', 'https://drive.google.com/file/d/1cCUuRFkpZnhiJ1vXd9UKP3M4dxGY7USn/view?usp=sharing']}\n",
      "{'title': '<span>¡El oponente más poderoso se acerca a Gokú! ¡Es hora de lanzar la técnica especial:</span><span>Genki-Dama!', 'season': 1, 'chapter': 109, 'description': '', 'sources': ['https://waaw.to/f/atAgjwXZcxbF', 'https://yadi.sk/i/bbWb2QXefJfCiw', 'https://drive.google.com/file/d/1PaS6BDMdEFL1FpmpPUbw9wWEqL-PJN6Z/view?usp=sharing']}\n",
      "{'title': '¡El despertar de Gokú! ¡Una nueva habilidad secreta!', 'season': 1, 'chapter': 110, 'description': '', 'sources': ['https://waaw.to/f/fjY8hdvNnGsI', 'https://yadi.sk/i/pZ-bRLp6NbwDbA', 'https://drive.google.com/file/d/1Rme_aW3CGgdUIq1sXSt9uFrjqRT90co_/view?usp=sharing']}\n",
      "{'title': '¡Una batalla de otra dimensión! ¡Hit contra Jiren!', 'season': 1, 'chapter': 111, 'description': '', 'sources': ['https://waaw.to/f/HgWGbfcqc7gi', 'https://yadi.sk/i/9szg_3btaBrw2A', 'https://drive.google.com/file/d/1MhdvlXDqNAWs31ki1r7rHSxCZ5hr2izs/view?usp=sharing']}\n",
      "{'title': '¡El juramento de un Saiyajin! ¡La osadía de Vegeta!', 'season': 1, 'chapter': 112, 'description': '', 'sources': ['https://waaw.to/f/SVtatr8LyE4P', 'https://yadi.sk/i/XjJr8MzyWWaUYA', 'https://drive.google.com/file/d/19VW_tuHi172rwUpzw7lpKsQw--uHCweA/view?usp=sharing']}\n",
      "{'title': '¡Qué emoción! ¡Una batalla descabellada entre los saiyajin se repite!', 'season': 1, 'chapter': 113, 'description': '', 'sources': ['https://waaw.to/f/0FWtK6PgKc7N', 'https://yadi.sk/i/06wxqELDO7bRqA', 'https://drive.google.com/file/d/1-dogtohwLuFdmkBtFDuQtnlc850Lifs4/view?usp=sharing']}\n",
      "{'title': 'Un poder abrumador se acerca! ¡El nacimiento de una nueva súper guerrera!', 'season': 1, 'chapter': 114, 'description': '', 'sources': ['https://waaw.to/f/UxMBYia9gaiQ', 'https://yadi.sk/i/c31MtQZiJe7BKg', 'https://drive.google.com/file/d/10F6Xx_IdDOIQqDLY77fnLPleKr_9-Jbm/view?usp=sharing']}\n",
      "{'title': '¡Goku contra Kefla! ¡¿El Súper Saiyajin Blue es derrotado?!', 'season': 1, 'chapter': 115, 'description': '', 'sources': ['https://waaw.to/f/UPjEg0Ksj5Do', 'https://yadi.sk/i/pPeDDc9-SXuqzA', 'https://drive.google.com/file/d/1TMHfCA2omljSTK4APn0TzkYB0sUufllN/view?usp=sharing']}\n",
      "{'title': '¡La señal de un contraataque! ¡El Ultra Instinto estalla!', 'season': 1, 'chapter': 116, 'description': '', 'sources': ['https://waaw.to/f/UnVORVdEoorf', 'https://yadi.sk/i/J_YOBbPSM0JujA', 'https://drive.google.com/file/d/1nMyPRU-qLTI2Q9s-ZCppP6lrBDKGwX0l/view?usp=sharing']}\n",
      "{'title': '¡La confrontación del amor! ¡Androides contra el Universo 2!', 'season': 1, 'chapter': 117, 'description': '', 'sources': ['https://waaw.to/f/Vzjl65Fvqu5V', 'https://yadi.sk/i/Cod63LK1By6utQ', 'https://drive.google.com/file/d/1eIW7vM6XrVxPFQbW5xmY3_MpjcjwtwFX/view?usp=sharing']}\n",
      "{'title': '¡Una tragedia precipitada! Los Universos que desaparecen...', 'season': 1, 'chapter': 118, 'description': '', 'sources': ['https://waaw.to/f/2jmkY7nMXchx', 'https://yadi.sk/i/d8FjsLWutmj6Uw', 'https://drive.google.com/file/d/1S-c4MZTJDd0KktGBm5xt8PM2NRcnX3KW/view?usp=sharing']}\n",
      "{'title': '¡¿Ineludible?! ¡Un ataque sigiloso y feroz!', 'season': 1, 'chapter': 119, 'description': '', 'sources': ['https://waaw.to/f/SZgOo0m9jN1A', 'https://yadi.sk/i/IjrqOyk72c7JvA', 'https://drive.google.com/file/d/1eR-HshYWRPyoV3C0Ho7m3Z-QYiAZjU_C/view?usp=sharing']}\n",
      "{'title': '¡La estrategia perfecta para sobrevivir! ¡El temible asesino del Universo 3!', 'season': 1, 'chapter': 120, 'description': '', 'sources': ['https://waaw.to/f/n0s31rzeJz6W', 'https://yadi.sk/i/u1W2QBurbZpROQ', 'https://drive.google.com/file/d/1-GAd9UG4L5oSs_E_-cubg7ZXMhRwhQpb/view?usp=sharing']}\n",
      "{'title': '¡Asalto total! ¡La gran fusión cuádruple contra el ataque del Universo 7!', 'season': 1, 'chapter': 121, 'description': '', 'sources': ['https://waaw.to/f/7sS1e6dZbJj4', 'https://yadi.sk/i/8vwvtN722gJqhA', 'https://drive.google.com/file/d/1NrV44bhdfVQDqugmcSIVJm8byTBgWzxr/view?usp=sharing']}\n",
      "{'title': '¡Por mi orgullo! ¡El desafío de Vegeta para ser el más fuerte!', 'season': 1, 'chapter': 122, 'description': '', 'sources': ['https://waaw.to/f/SPhafQKf2c3V', 'https://yadi.sk/i/52Umxmwz_QTNWQ', 'https://drive.google.com/file/d/1CdPQ9ODCXWN5yckPjqubXEH-99umwdBJ/view?usp=sharing']}\n",
      "{'title': '¡El máximo poder del cuerpo y alma liberado! ¡Gokú y Vegeta!', 'season': 1, 'chapter': 123, 'description': '', 'sources': ['https://waaw.to/f/paSzTSBKcPVB', 'https://yadi.sk/i/MNXoTLJNbTMwsw', 'https://drive.google.com/file/d/1O-5anzc4RD_zClEHtte6eWxpsKFVsKkx/view?usp=sharing']}\n",
      "{'title': '¡El feroz asalto abrumador! ¡El último recurso de Gohan!', 'season': 1, 'chapter': 124, 'description': '', 'sources': ['https://waaw.to/f/UOEO4WuoddPR', 'https://yadi.sk/i/o4dO9bJuyPYMDA', 'https://drive.google.com/file/d/1DgJ--xlWIxUZfYHBvTiFOF9ignvY6Kfd/view?usp=sharing']}\n",
      "{'title': '¡Una presencia imponente! ¡El despertar del Dios de la Destrucción Toppo!', 'season': 1, 'chapter': 125, 'description': '', 'sources': ['https://waaw.to/f/Fn0QYKjkHrwF', 'https://yadi.sk/i/xSEto-yed2k_Pw', 'https://drive.google.com/file/d/1VIpiD8BUHbrQ8ze4Vw1oi7Z5nwg0Awd1/view?usp=sharing']}\n",
      "{'title': '¡Superar a un Dios! ¡El sacrificio de Vegeta!', 'season': 1, 'chapter': 126, 'description': '', 'sources': ['https://waaw.to/f/vtuRJpJz4CuS', 'https://yadi.sk/i/y3y5XUloYv0WyA', 'https://drive.google.com/file/d/1UHW-gVoapH1OdW6DiL9E5TLykRPcKnqD/view?usp=sharing']}\n",
      "{'title': '¡El obstáculo se acerca! ¡La barrera final de la esperanza!', 'season': 1, 'chapter': 127, 'description': '', 'sources': ['https://waaw.to/f/M4aZ1o4mmJfn', 'https://yadi.sk/i/PeX8gNwyNdgBTg', 'https://drive.google.com/file/d/1bDHcimU8x0P2lRWJ3pVJLFSDND8qhMR3/view?usp=sharing']}\n",
      "{'title': '¡Mantén tu orgullo hasta el final! ¡La última pelea de Vegeta!', 'season': 1, 'chapter': 128, 'description': '', 'sources': ['https://waaw.to/f/tZ7nadDhFo7A', 'https://yadi.sk/i/ZUxblpNoCTFP0g', 'https://drive.google.com/file/d/1HLLzDJbF27nhSp_UgaxALe4U2fYvawgq/view?usp=sharing']}\n",
      "{'title': '¡Supera todos los límites! ¡El Ultra Instinto dominado!', 'season': 1, 'chapter': 129, 'description': '', 'sources': ['https://waaw.to/f/XvlGgeeEAyoT', 'https://yadi.sk/i/23nYCaYZGneQqg', 'https://drive.google.com/file/d/1yfWSDBmCEiSD132dLIlysOEtkgr_kdhQ/view?usp=sharing']}\n",
      "{'title': '¡Una pelea nunca antes vista! ¡La última batalla por la supervivencia!', 'season': 1, 'chapter': 130, 'description': '', 'sources': ['https://waaw.to/f/7w4YO35kxZCI', 'https://yadi.sk/i/EV1xySn03IdPsQ', 'https://drive.google.com/file/d/1KxKA3pHi52b40GQpW3HBMCB2u_Oi92cY/view?usp=sharing']}\n",
      "{'title': '¡Un desenlace milagroso! ¡Adiós Gokú, hasta nuestro próximo encuentro!', 'season': 1, 'chapter': 131, 'description': '', 'sources': ['https://waaw.to/f/SiqYkkxZ1Nwu', 'https://yadi.sk/i/VI8nWpjDLV35VQ', 'https://drive.google.com/file/d/1NCzx91_-1xY1a-txyJEJsPKJQF81HTUz/view?usp=sharing']}\n"
     ]
    }
   ],
   "source": [
    "for index, element in enumerate(episodes):\n",
    "    name = fix_encoding(clean_text(pq(element).html()))\n",
    "    source = list(map(lambda x: x.attrib['href'], pq(element).find('a')))\n",
    "    d = {\n",
    "        'title': name,\n",
    "        'season': 1,\n",
    "        'chapter': index + 1,\n",
    "        'description': '',\n",
    "        'sources': source\n",
    "    }\n",
    "    data.append(d)\n",
    "    print(d)"
   ]
  },
  {
   "cell_type": "code",
   "execution_count": 37,
   "metadata": {},
   "outputs": [
    {
     "name": "stdout",
     "output_type": "stream",
     "text": [
      "{'title': 'El secreto de la esfera del dragón', 'season': 1, 'chapter': 1, 'description': '', 'sources': ['https://www.sendvid.com/embed/j9deftlt']}\n",
      "{'title': 'La búsqueda del emperador', 'season': 1, 'chapter': 2, 'description': '', 'sources': ['https://www.sendvid.com/embed/ruhdkatw']}\n",
      "{'title': 'La nube dorada de Roshi', 'season': 1, 'chapter': 3, 'description': '', 'sources': ['https://www.sendvid.com/embed/ynhifr5b']}\n",
      "{'title': 'Oolong, el secuestrador de niñas', 'season': 1, 'chapter': 4, 'description': '', 'sources': ['https://www.sendvid.com/embed/bt88c7mo']}\n",
      "{'title': 'El misterioso y malvado Yamcha vive en el desierto', 'season': 1, 'chapter': 5, 'description': '', 'sources': ['https://www.sendvid.com/embed/6kv365z9']}\n",
      "{'title': 'Vigila la esfera del dragón', 'season': 1, 'chapter': 6, 'description': '', 'sources': ['https://www.sendvid.com/embed/w20n58ae']}\n",
      "{'title': 'Ox-Satan en la montaña de fuego', 'season': 1, 'chapter': 7, 'description': '', 'sources': ['https://www.sendvid.com/embed/16gaej9e']}\n",
      "{'title': 'La onda glaciar de Roshi', 'season': 1, 'chapter': 8, 'description': '', 'sources': ['https://www.sendvid.com/embed/gl7pfxzz']}\n",
      "{'title': 'El truco especial del jefe conejo', 'season': 1, 'chapter': 9, 'description': '', 'sources': ['https://www.sendvid.com/embed/9zyunqwy']}\n",
      "{'title': 'Las esferas del dragón han sido robadas', 'season': 1, 'chapter': 10, 'description': '', 'sources': ['https://www.sendvid.com/embed/wws5gxsd']}\n",
      "{'title': 'El dragón ha sido llamado', 'season': 1, 'chapter': 11, 'description': '', 'sources': ['https://www.sendvid.com/embed/t44w3usx']}\n",
      "{'title': 'Un deseo pedido al Dios dragón', 'season': 1, 'chapter': 12, 'description': '', 'sources': ['https://www.sendvid.com/embed/jzb0ugnv']}\n",
      "{'title': 'La metamorfosis de Goku', 'season': 1, 'chapter': 13, 'description': '', 'sources': ['https://www.sendvid.com/embed/lpq4yj9f']}\n",
      "{'title': 'El rival de Goku', 'season': 1, 'chapter': 14, 'description': '', 'sources': ['https://sendvid.com/embed/zfsfhrqf']}\n",
      "{'title': 'La misterioso niña Lnch', 'season': 1, 'chapter': 15, 'description': '', 'sources': ['https://sendvid.com/embed/u7fn0gij']}\n",
      "{'title': 'La cacería de piedras', 'season': 1, 'chapter': 16, 'description': '', 'sources': ['https://sendvid.com/embed/plrt2p7p']}\n",
      "{'title': 'Los repartidores de leche', 'season': 1, 'chapter': 17, 'description': '', 'sources': ['https://sendvid.com/embed/g980kx3x']}\n",
      "{'title': 'Entrenando al estilo de Roshi', 'season': 1, 'chapter': 18, 'description': '', 'sources': ['https://sendvid.com/embed/2itrnlmz']}\n",
      "{'title': 'El gran torneo de las Artes Marciales', 'season': 1, 'chapter': 19, 'description': '', 'sources': ['https://sendvid.com/embed/1rwlp5e7']}\n",
      "{'title': '¿PodrÃ¡ el duro entrenamiento ser puesto en practica?', 'season': 1, 'chapter': 20, 'description': '', 'sources': ['https://sendvid.com/embed/6izryq7v']}\n",
      "{'title': 'Alerta Krilin!', 'season': 1, 'chapter': 21, 'description': '', 'sources': ['https://sendvid.com/embed/4ryiwq7l']}\n",
      "{'title': 'Yamcha contra Jackie Chun!', 'season': 1, 'chapter': 22, 'description': '', 'sources': ['https://sendvid.com/embed/mg4ywk90']}\n",
      "{'title': 'El horrible Guilan', 'season': 1, 'chapter': 23, 'description': '', 'sources': ['https://sendvid.com/embed/eevf92k5']}\n",
      "{'title': 'El frenético ataque de Krilin', 'season': 1, 'chapter': 24, 'description': '', 'sources': ['https://sendvid.com/embed/4tii4r1n']}\n",
      "{'title': 'El terrible ataque aéreo de Nam', 'season': 1, 'chapter': 25, 'description': '', 'sources': ['https://sendvid.com/embed/qb2fh465']}\n",
      "{'title': 'La fuerza Kame Hame al ataque', 'season': 1, 'chapter': 26, 'description': '', 'sources': ['https://sendvid.com/embed/t578mbb9']}\n",
      "{'title': 'Goku en graves aprietos', 'season': 1, 'chapter': 27, 'description': '', 'sources': ['https://sendvid.com/embed/5kzfsmwu']}\n",
      "{'title': 'Goku ha desaparecido', 'season': 1, 'chapter': 28, 'description': '', 'sources': ['https://sendvid.com/embed/ws2qjb14']}\n",
      "{'title': 'El río que podía moverse', 'season': 1, 'chapter': 29, 'description': '', 'sources': ['https://sendvid.com/embed/2qgwvocd']}\n",
      "{'title': 'El marciano y La patrulla misteriosa', 'season': 1, 'chapter': 30, 'description': '', 'sources': ['https://sendvid.com/embed/0a1r8hpj']}\n",
      "{'title': 'Goku creyó encontrarla', 'season': 1, 'chapter': 31, 'description': '', 'sources': ['https://sendvid.com/embed/3bamx0d0']}\n",
      "{'title': 'La fortaleza voladora desapareció', 'season': 1, 'chapter': 32, 'description': '', 'sources': ['https://sendvid.com/embed/ttwfl8xs']}\n",
      "{'title': 'La leyenda del Dragón', 'season': 1, 'chapter': 33, 'description': '', 'sources': ['https://sendvid.com/embed/650arpkw']}\n",
      "{'title': 'El Ejército rojo y su cruel comandante general', 'season': 1, 'chapter': 34, 'description': '', 'sources': ['https://sendvid.com/embed/7yw6hjeo']}\n",
      "{'title': 'Suno, la pequeña niña de la aldea del norte', 'season': 1, 'chapter': 35, 'description': '', 'sources': ['https://sendvid.com/embed/v0maj77n']}\n",
      "{'title': 'La batalla con el sargento Metálico', 'season': 1, 'chapter': 36, 'description': '', 'sources': ['https://sendvid.com/embed/2wopa47j']}\n",
      "{'title': 'Llegó el ninja Púrpura', 'season': 1, 'chapter': 37, 'description': '', 'sources': ['https://sendvid.com/embed/r3ff32i0']}\n",
      "{'title': 'Cinco ninjas en contra de Goku', 'season': 1, 'chapter': 38, 'description': '', 'sources': ['https://sendvid.com/embed/evgmqa97']}\n",
      "{'title': 'El encuentro con el misterioso robot Nº8', 'season': 1, 'chapter': 39, 'description': '', 'sources': ['https://sendvid.com/embed/0sc1jodz']}\n",
      "{'title': 'La pelea de Goku contra el terrible Gullon', 'season': 1, 'chapter': 40, 'description': '', 'sources': ['https://sendvid.com/embed/3m3zfe9u']}\n",
      "{'title': 'El último día en la torre de la fuerza', 'season': 1, 'chapter': 41, 'description': '', 'sources': ['https://sendvid.com/embed/x2a6fpfm']}\n",
      "{'title': 'El inesperado secreto del Doctor Flappe', 'season': 1, 'chapter': 42, 'description': '', 'sources': ['https://sendvid.com/embed/do9hhe9j']}\n",
      "{'title': 'La casa de Bulma al oeste de la Metrópoli', 'season': 1, 'chapter': 43, 'description': '', 'sources': ['https://sendvid.com/embed/qepwug51']}\n",
      "{'title': 'Goku y sus amigos en terribles aprietos', 'season': 1, 'chapter': 44, 'description': '', 'sources': ['https://sendvid.com/embed/k5hkuumk']}\n",
      "{'title': 'Cuidado, hay una trampa ', 'season': 1, 'chapter': 45, 'description': '', 'sources': ['https://sendvid.com/embed/x10s2znk']}\n",
      "{'title': 'El fracaso total de Bulma', 'season': 1, 'chapter': 46, 'description': '', 'sources': ['https://sendvid.com/embed/u2xhbj1o']}\n",
      "{'title': 'Encuentran la casa de Roshi', 'season': 1, 'chapter': 47, 'description': '', 'sources': ['https://sendvid.com/embed/5juu0g79']}\n",
      "{'title': 'El General Blue empieza a atacar', 'season': 1, 'chapter': 48, 'description': '', 'sources': ['https://sendvid.com/embed/dghngq0b']}\n",
      "{'title': 'Cuidado con el enemigo', 'season': 1, 'chapter': 49, 'description': '', 'sources': ['https://sendvid.com/embed/kbvca540']}\n",
      "{'title': 'El secreto de los piratas', 'season': 1, 'chapter': 50, 'description': '', 'sources': ['https://sendvid.com/embed/kap7mfcg']}\n",
      "{'title': 'El guardián de las profundidades', 'season': 1, 'chapter': 51, 'description': '', 'sources': ['https://sendvid.com/embed/3e8exanb']}\n",
      "{'title': 'Grandioso! Hemos encontrado el tesoro', 'season': 1, 'chapter': 52, 'description': '', 'sources': ['https://sendvid.com/embed/k3hgef7d']}\n",
      "{'title': 'La cueva siniestra', 'season': 1, 'chapter': 53, 'description': '', 'sources': ['https://sendvid.com/embed/ixct5r05']}\n",
      "{'title': 'El escape', 'season': 1, 'chapter': 54, 'description': '', 'sources': ['https://sendvid.com/embed/9in5wcxc']}\n",
      "{'title': 'Camino a Villa Pingüino', 'season': 1, 'chapter': 55, 'description': '', 'sources': ['https://sendvid.com/embed/x2hcf41o']}\n",
      "{'title': 'Arale viaja en la nube voladora', 'season': 1, 'chapter': 56, 'description': '', 'sources': ['https://sendvid.com/embed/zwaaz958']}\n",
      "{'title': 'Arale contra el General Blue', 'season': 1, 'chapter': 57, 'description': '', 'sources': ['https://sendvid.com/embed/lk01wfib']}\n",
      "{'title': 'La Tierra Sagrada', 'season': 1, 'chapter': 58, 'description': '', 'sources': ['https://sendvid.com/embed/1rs2tze9']}\n",
      "{'title': 'Tao PaiPai, el exterminador más famoso del mundo ha llegado', 'season': 1, 'chapter': 59, 'description': '', 'sources': ['https://sendvid.com/embed/ojsz4ka2']}\n",
      "{'title': 'La fuerza Kame Hame contra Tao PaiPai', 'season': 1, 'chapter': 60, 'description': '', 'sources': ['https://sendvid.com/embed/pzskmn8q']}\n",
      "{'title': 'La torre del maestro Karin', 'season': 1, 'chapter': 61, 'description': '', 'sources': ['https://sendvid.com/embed/l2jjhkl5']}\n",
      "{'title': 'El beneficio del agua sagrada', 'season': 1, 'chapter': 62, 'description': '', 'sources': ['https://sendvid.com/embed/utmuwgrz']}\n",
      "{'title': 'Goku contraataca', 'season': 1, 'chapter': 63, 'description': '', 'sources': ['https://sendvid.com/embed/ptt7zjbh']}\n",
      "{'title': 'El último Tao PaiPai', 'season': 1, 'chapter': 64, 'description': '', 'sources': ['https://sendvid.com/embed/9p5oaol5']}\n",
      "{'title': 'Vamos Goku! Comienza la pelea', 'season': 1, 'chapter': 65, 'description': '', 'sources': ['https://sendvid.com/embed/unnibuke']}\n",
      "{'title': 'El último esfuerzo de la Patrulla Roja', 'season': 1, 'chapter': 66, 'description': '', 'sources': ['https://sendvid.com/embed/yv69ntni']}\n",
      "{'title': 'El comandante de la patrulla roja muere', 'season': 1, 'chapter': 67, 'description': '', 'sources': ['https://sendvid.com/embed/tw3tbsyz']}\n",
      "{'title': 'La última Esfera del Dragón', 'season': 1, 'chapter': 68, 'description': '', 'sources': ['https://sendvid.com/embed/44bi0ceh']}\n",
      "{'title': '¿QuiÃ©n es Uranai Baba?', 'season': 1, 'chapter': 69, 'description': '', 'sources': ['https://sendvid.com/embed/pvnbssru']}\n",
      "{'title': 'El ataque de los cinco guerreros', 'season': 1, 'chapter': 70, 'description': '', 'sources': ['https://sendvid.com/embed/uylfarog']}\n",
      "{'title': 'Una batalla sangrienta y mortal', 'season': 1, 'chapter': 71, 'description': '', 'sources': ['https://sendvid.com/embed/dpyoyr3w']}\n",
      "{'title': 'La pelea de Son Goku en el baño del diablo', 'season': 1, 'chapter': 72, 'description': '', 'sources': ['https://sendvid.com/embed/7go13ixe']}\n",
      "{'title': '¿QuÃ© es el resplandor del diablo?', 'season': 1, 'chapter': 73, 'description': '', 'sources': ['https://sendvid.com/embed/51cin52a']}\n",
      "{'title': 'El misterioso quinto participante', 'season': 1, 'chapter': 74, 'description': '', 'sources': ['https://sendvid.com/embed/svj15jw1']}\n",
      "{'title': '¿QuÃ©? El poderoso adversario resulto ser un viejo amigo', 'season': 1, 'chapter': 75, 'description': '', 'sources': ['https://sendvid.com/embed/sx9trxuc']}\n",
      "{'title': 'La verdadera identidad del hombre enmascarado es', 'season': 1, 'chapter': 76, 'description': '', 'sources': ['https://sendvid.com/embed/ysngx630']}\n",
      "{'title': 'El gran plan de Pilaf', 'season': 1, 'chapter': 77, 'description': '', 'sources': ['https://sendvid.com/embed/edg8e7mp']}\n",
      "{'title': 'Otra vez el Dios Dragón', 'season': 1, 'chapter': 78, 'description': '', 'sources': ['https://sendvid.com/embed/m6ytftf1']}\n",
      "{'title': 'Oro, Plata y una cantimplora come hombres', 'season': 1, 'chapter': 79, 'description': '', 'sources': ['https://sendvid.com/embed/wk1nay6g']}\n",
      "{'title': 'Una pelea ante la presencia del rey Goku contra Ten-long', 'season': 1, 'chapter': 80, 'description': '', 'sources': ['https://sendvid.com/embed/2q8m961e']}\n",
      "{'title': 'Goku va a la tierra del Demonio', 'season': 1, 'chapter': 81, 'description': '', 'sources': ['https://sendvid.com/embed/ikkblpsx']}\n",
      "{'title': 'Un monstruo violento llamado Inoch-ka-cho', 'season': 1, 'chapter': 82, 'description': '', 'sources': ['https://sendvid.com/embed/qdqb1stb']}\n",
      "{'title': 'Apresúrate Goku! El Torneo de las Artes Marciales se avecina', 'season': 1, 'chapter': 83, 'description': '', 'sources': ['https://sendvid.com/embed/fazvtj04']}\n",
      "{'title': '¿QuiÃ©n es el mejor luchador de las Artes Marciales', 'season': 1, 'chapter': 84, 'description': '', 'sources': ['https://sendvid.com/embed/oqvqinsc']}\n",
      "{'title': 'Tenemos que ganar! ¿QuiÃ©n llegarÃ¡ a las preliminares?', 'season': 1, 'chapter': 85, 'description': '', 'sources': ['https://sendvid.com/embed/ldqkl9hl']}\n",
      "{'title': 'Los ocho finalistas', 'season': 1, 'chapter': 86, 'description': '', 'sources': ['https://sendvid.com/embed/zubnal4e']}\n",
      "{'title': 'Yamcha contra Tenshinhan', 'season': 1, 'chapter': 87, 'description': '', 'sources': ['https://sendvid.com/embed/mi328z08']}\n",
      "{'title': 'Ten cuidado Yamcha! El terrible Tenshinhan es muy poderoso', 'season': 1, 'chapter': 88, 'description': '', 'sources': ['https://sendvid.com/embed/5ywvvyoa']}\n",
      "{'title': 'Terror! El misterio de la luna llena', 'season': 1, 'chapter': 89, 'description': '', 'sources': ['https://sendvid.com/embed/ezqymhp9']}\n",
      "{'title': 'Qué, qué, qué? Qué Dodonpa?', 'season': 1, 'chapter': 90, 'description': '', 'sources': ['https://sendvid.com/embed/imxw6xsn']}\n",
      "{'title': 'La situación a cambiado! El plan matemático de Krilin', 'season': 1, 'chapter': 91, 'description': '', 'sources': ['https://sendvid.com/embed/i8ez6sag']}\n",
      "{'title': 'Finalmente... El turno de Goku', 'season': 1, 'chapter': 92, 'description': '', 'sources': ['https://sendvid.com/embed/4xtlfxit']}\n",
      "{'title': 'Una pelea muy difícil: Tenshinhan contra Jackie Chun', 'season': 1, 'chapter': 93, 'description': '', 'sources': ['https://sendvid.com/embed/0x8tjx41']}\n",
      "{'title': 'Que! La tÃ©cnica del maestro Tsuru: Tay yu ken¨', 'season': 1, 'chapter': 94, 'description': '', 'sources': ['https://sendvid.com/embed/iz39ycfz']}\n",
      "{'title': 'A pelear! Goku contra Krilin!', 'season': 1, 'chapter': 95, 'description': '', 'sources': ['https://sendvid.com/embed/6m7zj7he']}\n",
      "{'title': 'La sorpresa de Goku y el plan de Krilin', 'season': 1, 'chapter': 96, 'description': '', 'sources': ['https://sendvid.com/embed/2n8t3q85']}\n",
      "{'title': 'El úñltimo combate', 'season': 1, 'chapter': 97, 'description': '', 'sources': ['https://sendvid.com/embed/o1s5kyf9']}\n",
      "{'title': 'Las técnica secreta Tay yu ken contra el poder de ataque', 'season': 1, 'chapter': 98, 'description': '', 'sources': ['https://sendvid.com/embed/i14icvhm']}\n",
      "{'title': 'La angustia de Tenshinhan', 'season': 1, 'chapter': 99, 'description': '', 'sources': ['https://sendvid.com/embed/gerwgix6']}\n",
      "{'title': 'Vivir o morir la última alternativa', 'season': 1, 'chapter': 100, 'description': '', 'sources': ['https://sendvid.com/embed/3cgzsgsk']}\n",
      "{'title': 'El torneo de las Artes Marciales ha terminado', 'season': 1, 'chapter': 101, 'description': '', 'sources': ['https://sendvid.com/embed/29w9sksq']}\n",
      "{'title': 'La muerte de Krilin! Un complot', 'season': 1, 'chapter': 102, 'description': '', 'sources': ['https://sendvid.com/embed/q827ismc']}\n",
      "{'title': 'El terrible Piccolo Daimaoh', 'season': 1, 'chapter': 103, 'description': '', 'sources': ['https://sendvid.com/embed/417zs2lo']}\n",
      "{'title': 'Goku regresa', 'season': 1, 'chapter': 104, 'description': '', 'sources': ['https://sendvid.com/embed/k48qhaqf']}\n",
      "{'title': 'El gran Yajirobe', 'season': 1, 'chapter': 105, 'description': '', 'sources': ['https://sendvid.com/embed/fegu4klj']}\n",
      "{'title': 'El malvado Tambori se acerca', 'season': 1, 'chapter': 106, 'description': '', 'sources': ['https://sendvid.com/embed/q9eipr79']}\n",
      "{'title': 'Goku se enfurece', 'season': 1, 'chapter': 107, 'description': '', 'sources': ['https://sendvid.com/embed/ruclihi6']}\n",
      "{'title': 'La aparición de Piccolo Daimaoh', 'season': 1, 'chapter': 108, 'description': '', 'sources': ['https://sendvid.com/embed/z4liwb3t']}\n",
      "{'title': 'Goku contra Piccolo Daimaoh', 'season': 1, 'chapter': 109, 'description': '', 'sources': ['https://sendvid.com/embed/z4liwb3t']}\n",
      "{'title': 'Tu puedes Goku!', 'season': 1, 'chapter': 110, 'description': '', 'sources': ['https://sendvid.com/embed/c971piha']}\n",
      "{'title': 'El último Ma-Fuu-Ba del maestro Roshi', 'season': 1, 'chapter': 111, 'description': '', 'sources': ['https://sendvid.com/embed/inirwo1x']}\n",
      "{'title': '¿PodrÃ¡ Piccolo Daimaoh recuperar la juventud?', 'season': 1, 'chapter': 112, 'description': '', 'sources': ['https://sendvid.com/embed/96mez2rr']}\n",
      "{'title': 'Ataque al Castillo del Rey', 'season': 1, 'chapter': 113, 'description': '', 'sources': ['https://sendvid.com/embed/15uy6mzw']}\n",
      "{'title': 'La esperanza de Goku', 'season': 1, 'chapter': 114, 'description': '', 'sources': ['https://sendvid.com/embed/vl89rkai']}\n",
      "{'title': 'Vamos por la misteriosa agua de los Dioses', 'season': 1, 'chapter': 115, 'description': '', 'sources': ['https://sendvid.com/embed/30jr0dxe']}\n",
      "{'title': '¿El Maestro Roshi esta vivo?', 'season': 1, 'chapter': 116, 'description': '', 'sources': ['https://sendvid.com/embed/1hxvs0cw']}\n",
      "{'title': 'Goku despierta', 'season': 1, 'chapter': 117, 'description': '', 'sources': ['https://sendvid.com/embed/s4fen7oi']}\n",
      "{'title': 'La decisión de TenShinHan', 'season': 1, 'chapter': 118, 'description': '', 'sources': ['https://sendvid.com/embed/uu490sgz']}\n",
      "{'title': 'La legendaria técnica Ma-Fuu-Ba', 'season': 1, 'chapter': 119, 'description': '', 'sources': ['https://sendvid.com/embed/je691n4x']}\n",
      "{'title': 'La ira de Goku', 'season': 1, 'chapter': 120, 'description': '', 'sources': ['https://sendvid.com/embed/7vediws0']}\n",
      "{'title': 'El momento crucial de Goku', 'season': 1, 'chapter': 121, 'description': '', 'sources': ['https://sendvid.com/embed/dqdbo15m']}\n",
      "{'title': 'El último esfuerzo', 'season': 1, 'chapter': 122, 'description': '', 'sources': ['https://sendvid.com/embed/y9ttaoed']}\n",
      "{'title': 'El secreto del báculo sagrado', 'season': 1, 'chapter': 123, 'description': '', 'sources': ['https://sendvid.com/embed/3kiie0h5']}\n",
      "{'title': 'El templo sagrado esta arriba de las nubes', 'season': 1, 'chapter': 124, 'description': '', 'sources': ['https://sendvid.com/embed/z3b2nli6']}\n",
      "{'title': 'La aparición de KamiSama', 'season': 1, 'chapter': 125, 'description': '', 'sources': ['https://sendvid.com/embed/v8nn4m7b']}\n",
      "{'title': 'Shen-Long revive', 'season': 1, 'chapter': 126, 'description': '', 'sources': ['https://sendvid.com/embed/0oipev18']}\n",
      "{'title': 'Más rápido que un relámpago', 'season': 1, 'chapter': 127, 'description': '', 'sources': ['https://sendvid.com/embed/hef51uv0']}\n",
      "{'title': 'Tranquilo como el cielo', 'season': 1, 'chapter': 128, 'description': '', 'sources': ['https://sendvid.com/embed/43qq5a2u']}\n",
      "{'title': 'Goku viaja a través del tiempo', 'season': 1, 'chapter': 129, 'description': '', 'sources': ['https://sendvid.com/embed/xvfp0w0c']}\n",
      "{'title': 'El oponente de Goku es', 'season': 1, 'chapter': 130, 'description': '', 'sources': ['https://sendvid.com/embed/wta3mcjj']}\n",
      "{'title': 'Cada quién toma un camino', 'season': 1, 'chapter': 131, 'description': '', 'sources': ['https://sendvid.com/embed/g8jokpdp']}\n",
      "{'title': 'Mas caliente que el magma', 'season': 1, 'chapter': 132, 'description': '', 'sources': ['https://sendvid.com/embed/kh5wrjw1']}\n",
      "{'title': 'Una reunión después de la tormenta', 'season': 1, 'chapter': 133, 'description': '', 'sources': ['https://sendvid.com/embed/0i5xg100']}\n",
      "{'title': 'El torneo de las Artes Marciales ha comenzado', 'season': 1, 'chapter': 134, 'description': '', 'sources': ['https://sendvid.com/embed/pxh8j4kb']}\n",
      "{'title': 'Los ocho peleadores', 'season': 1, 'chapter': 135, 'description': '', 'sources': ['https://sendvid.com/embed/de3fo94f']}\n",
      "{'title': 'El contraataque del asesino Tao PaiPai', 'season': 1, 'chapter': 136, 'description': '', 'sources': ['https://sendvid.com/embed/k6m99fyd']}\n",
      "{'title': 'La promesa de Goku', 'season': 1, 'chapter': 137, 'description': '', 'sources': ['https://sendvid.com/embed/vzlglsog']}\n",
      "{'title': 'El misterioso hombre llamado Shen', 'season': 1, 'chapter': 138, 'description': '', 'sources': ['https://sendvid.com/embed/al50jec5']}\n",
      "{'title': 'Nuevamente una pelea violenta', 'season': 1, 'chapter': 139, 'description': '', 'sources': ['https://sendvid.com/embed/qy6cwze2']}\n",
      "{'title': 'El verdadero poder', 'season': 1, 'chapter': 140, 'description': '', 'sources': ['https://sendvid.com/embed/6dhrzp1k']}\n",
      "{'title': 'Cuatro Tenshinhan', 'season': 1, 'chapter': 141, 'description': '', 'sources': ['https://sendvid.com/embed/wkwzrpe2']}\n",
      "{'title': '¿QuiÃ©n serÃ¡ mÃ¡s fuerte? KamiSama contra Piccolo', 'season': 1, 'chapter': 142, 'description': '', 'sources': ['https://sendvid.com/embed/09tssm1l']}\n",
      "{'title': 'El destino del mundo corre peligro', 'season': 1, 'chapter': 143, 'description': '', 'sources': ['https://sendvid.com/embed/z5n98q4m']}\n",
      "{'title': 'El super Kame-Hame-Ha', 'season': 1, 'chapter': 144, 'description': '', 'sources': ['https://sendvid.com/embed/9i0b09zu']}\n",
      "{'title': 'El gigante Piccolo Daimaoh', 'season': 1, 'chapter': 145, 'description': '', 'sources': ['https://sendvid.com/embed/4akl6l67']}\n",
      "{'title': 'La trampa de Goku', 'season': 1, 'chapter': 146, 'description': '', 'sources': ['https://sendvid.com/embed/u2ajv4v4']}\n",
      "{'title': 'Todo se ha perdido', 'season': 1, 'chapter': 147, 'description': '', 'sources': ['https://sendvid.com/embed/gh0jwuyx']}\n",
      "{'title': 'El hombre más fuerte del mundo', 'season': 1, 'chapter': 148, 'description': '', 'sources': ['https://sendvid.com/embed/h2ug72l5']}\n",
      "{'title': 'El vestido de novia rodeado de llamas', 'season': 1, 'chapter': 149, 'description': '', 'sources': ['https://sendvid.com/embed/38wti151']}\n",
      "{'title': 'El ave traga fuego', 'season': 1, 'chapter': 150, 'description': '', 'sources': ['https://sendvid.com/embed/aeocuqxj']}\n",
      "{'title': 'Milk entrena duró para ser una buena esposa', 'season': 1, 'chapter': 151, 'description': '', 'sources': ['https://sendvid.com/embed/qsyo4nhe']}\n",
      "{'title': 'Apresúrate Goku! El misterio de la montaña de los cinco elementos', 'season': 1, 'chapter': 152, 'description': '', 'sources': ['https://sendvid.com/embed/jo0i6a8r']}\n",
      "{'title': 'La montaña Fly-Pan esta en llamas, una decisión de vida o muerte', 'season': 1, 'chapter': 153, 'description': '', 'sources': ['https://sendvid.com/embed/gmjo1742']}\n"
     ]
    }
   ],
   "source": [
    "for link in links:\n",
    "    # print(link.attrib)\n",
    "    if 'href' in link.attrib:\n",
    "        if 'sendvid' in link.attrib['href']:\n",
    "            d = {\n",
    "                'title': fix_encoding(link.text_content()),\n",
    "                'season': 1,\n",
    "                'chapter': c,\n",
    "                'description': '',\n",
    "                'sources': [link.attrib['href']]\n",
    "            }\n",
    "            print(d)\n",
    "            c += 1\n",
    "            data.append(d)"
   ]
  },
  {
   "cell_type": "code",
   "execution_count": 38,
   "metadata": {},
   "outputs": [
    {
     "data": {
      "text/plain": [
       "'Las esferas del dragón han sido robadas'"
      ]
     },
     "execution_count": 38,
     "metadata": {},
     "output_type": "execute_result"
    }
   ],
   "source": [
    "fix_encoding(links[15].text_content())"
   ]
  },
  {
   "cell_type": "code",
   "execution_count": 11,
   "metadata": {},
   "outputs": [],
   "source": [
    "def save_json(data, name):\n",
    "    archivo = open(f'./new_shows/{name}.json', 'w')\n",
    "    archivo.write(json.dumps(data))\n",
    "    archivo.close()\n",
    "    print(f'saved: {name}')"
   ]
  },
  {
   "cell_type": "code",
   "execution_count": 12,
   "metadata": {},
   "outputs": [
    {
     "name": "stdout",
     "output_type": "stream",
     "text": [
      "saved: dragon_ball_super\n"
     ]
    }
   ],
   "source": [
    "save_json(data, 'dragon_ball_super')"
   ]
  },
  {
   "cell_type": "code",
   "execution_count": null,
   "metadata": {},
   "outputs": [],
   "source": []
  }
 ],
 "metadata": {
  "kernelspec": {
   "display_name": "Python 3",
   "language": "python",
   "name": "python3"
  },
  "language_info": {
   "codemirror_mode": {
    "name": "ipython",
    "version": 3
   },
   "file_extension": ".py",
   "mimetype": "text/x-python",
   "name": "python",
   "nbconvert_exporter": "python",
   "pygments_lexer": "ipython3",
   "version": "3.8.5"
  }
 },
 "nbformat": 4,
 "nbformat_minor": 4
}
