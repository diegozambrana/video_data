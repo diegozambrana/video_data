{
 "cells": [
  {
   "cell_type": "code",
   "execution_count": 32,
   "metadata": {},
   "outputs": [],
   "source": [
    "import requests\n",
    "import json\n",
    "from pyquery import PyQuery as pq"
   ]
  },
  {
   "cell_type": "code",
   "execution_count": 66,
   "metadata": {},
   "outputs": [],
   "source": [
    "URL_TOTAL = \"http://seriestvlatina.blogspot.com/p/blog-page.html\"\n",
    "HEADERS = {'User-Agent': \"Mozilla/5.0 (Macintosh; Intel Mac OS X 10_11_5) \"\n",
    "                         \"AppleWebKit/537.36 (KHTML, like Gecko) Chrome/50\"\n",
    "                         \".0.2661.102 Safari/537.36\"}"
   ]
  },
  {
   "cell_type": "code",
   "execution_count": 67,
   "metadata": {},
   "outputs": [],
   "source": [
    "main_page_response = requests.get(URL_TOTAL, headers=HEADERS)\n",
    "# list_pages = pq(main_page_response.content).find('.Wdgt.AABox')\n",
    "# len(list_pages)"
   ]
  },
  {
   "cell_type": "code",
   "execution_count": 68,
   "metadata": {},
   "outputs": [
    {
     "data": {
      "text/plain": [
       "'http://3.bp.blogspot.com/--cCmo1avHQg/UwZdBZMvKnI/AAAAAAAAEgE/c8ZG5FBHIc0/s1600/La+Casa+De+Los+Dibujos+-+Season+0ne.JPG'"
      ]
     },
     "execution_count": 68,
     "metadata": {},
     "output_type": "execute_result"
    }
   ],
   "source": [
    "links = pq(main_page_response.content).find('.post-body.entry-content span a')\n",
    "len(links)\n",
    "links[1].attrib['href']"
   ]
  },
  {
   "cell_type": "code",
   "execution_count": 69,
   "metadata": {
    "scrolled": true
   },
   "outputs": [],
   "source": [
    "links = list(map(lambda x: x.attrib['href'], links))"
   ]
  },
  {
   "cell_type": "code",
   "execution_count": 73,
   "metadata": {},
   "outputs": [],
   "source": [
    "# del links[0]"
   ]
  },
  {
   "cell_type": "code",
   "execution_count": 74,
   "metadata": {},
   "outputs": [
    {
     "name": "stdout",
     "output_type": "stream",
     "text": [
      "0 http://seriestvlatina.blogspot.com.ar/2014/02/la-casa-de-los-dibujos-la-tina-caliente-latino.html\n",
      "1 http://seriestvlatina.blogspot.com/2014/02/la-casa-de-los-dibujos-el-sucio-secreto-de-clara-latino.html\n",
      "2 http://seriestvlatina.blogspot.com/2014/02/la-casa-de-los-dibujos-reventon-gay-latino.html\n",
      "3 http://seriestvlatina.blogspot.com/2014/02/la-casa-de-los-dibujos-competencia-de-comida-latino.html\n",
      "4 http://seriestvlatina.blogspot.com/2014/02/la-casa-de-los-dibujos-la-otra-prima-latino.html\n",
      "5 http://seriestvlatina.blogspot.com/2014/02/la-casa-de-los-dibujos-pizza-con-salchicha-latino.html\n",
      "6 http://seriestvlatina.blogspot.com/2014/02/la-casa-de-los-dibujos-el-unico-en-el-que-hay-un-cambio-de-trama-primera-parte-latino.html\n",
      "7 http://seriestvlatina.blogspot.com/2014/02/la-casa-de-los-dibujos-el-unico-en-el-que-hay-un-cambio-de-trama-segunda-parte-latino.html\n",
      "8 http://seriestvlatina.blogspot.com/2014/02/la-casa-de-los-dibujos-morocha-contra-el-director-de-educacion-latino.html\n",
      "9 http://seriestvlatina.blogspot.com/2014/02/la-casa-de-los-dibujos-capitanazo-imbecil-latino.html\n",
      "10 http://seriestvlatina.blogspot.com/2014/02/la-casa-de-los-dibujos-el-pacto-matrimonial-de-capitanazo-latino.html\n",
      "11 http://seriestvlatina.blogspot.com/2014/02/la-casa-de-los-dibujos-leche-bebes-latino.html\n",
      "12 http://seriestvlatina.blogspot.com/2014/02/la-casa-de-los-dibujos-fantasmas-en-el-casino-latino.html\n",
      "13 http://seriestvlatina.blogspot.com/2014/02/la-casa-de-los-dibujos-super-ninera-latino.html\n",
      "14 http://seriestvlatina.blogspot.com/2014/02/la-casa-de-los-dibujos-terminos-de-afecto-latino.html\n",
      "15 http://seriestvlatina.blogspot.com/2014/02/la-casa-de-los-dibujos-bebe-de-nicaragua-latino.html\n",
      "16 http://seriestvlatina.blogspot.com/2014/02/la-casa-de-los-dibujos-bebe-de-nicaragua-latino.html\n",
      "17 http://seriestvlatina.blogspot.com/2014/02/la-casa-de-los-dibujos-un-cuento-de-dos-vacas-latino.html\n",
      "18 http://seriestvlatina.blogspot.com/2014/02/la-casa-de-los-dibujos-xander-y-tim-sentados-en-un-arbol-latino.html\n",
      "19 http://seriestvlatina.blogspot.com/2014/02/la-casa-de-los-dibujos-la-caminata-del-SIDA-latino.html\n",
      "20 http://seriestvlatina.blogspot.com/2014/02/la-casa-de-los-dibujos-un-especial-extracurricular-muy-especial-de-la-casa-de-los-dibujos-latino.html\n",
      "21 http://seriestvlatina.blogspot.com/2014/02/la-casa-de-los-dibujos-alzheimer-que-termina-bien-latino.html\n",
      "22 http://seriestvlatina.blogspot.com/2014/02/la-casa-de-los-dibujos-la-casa-de-los-dibujos-clip-show-latino.html\n",
      "23 http://seriestvlatina.blogspot.com/2014/02/la-casa-de-los-dibujos-monstruos-y-griegos-latino.html\n",
      "24 http://seriestvlatina.blogspot.com/2014/02/la-casa-de-los-dibujos-futuro-gay-latino.html\n",
      "25 http://seriestvlatina.blogspot.com/2014/02/la-casa-de-los-dibujos-deletrea-latino.html\n",
      "26 http://seriestvlatina.blogspot.com/2014/02/la-casa-de-los-dibujos-hijo-latino.html\n",
      "27 http://seriestvlatina.blogspot.com/2014/02/la-casa-de-los-dibujos-el-nieto-de-morocha-latino.html\n",
      "28 http://seriestvlatina.blogspot.com/2014/02/la-casa-de-los-dibujos-mexico-latino.html\n",
      "29 http://seriestvlatina.blogspot.com/2014/02/la-casa-de-los-dibujos-atrapados-en-el-centro-comercial-primera-parte-latino.html\n",
      "30 http://seriestvlatina.blogspot.com/2014/02/la-casa-de-los-dibujos-atrapados-en-el-centro-comercial-segunda-parte-latino.html\n",
      "31 http://seriestvlatina.blogspot.com/2014/02/la-casa-de-los-dibujos-la-red-de-mentiras-de-charlotte-latino.html\n",
      "32 http://seriestvlatina.blogspot.com/2014/02/la-casa-de-los-dibujos-desayuno-asesino-latino.html\n",
      "33 http://seriestvlatina.blogspot.com/2014/02/la-casa-de-los-dibujos-la-casa-de-los-dibujos-bebes-latino.html\n",
      "34 http://seriestvlatina.blogspot.com/2014/02/la-casa-de-los-dibujos-argolla-pezonera-latino.html\n",
      "35 http://seriestvlatina.blogspot.com/2014/02/la-casa-de-los-dibujos-lulu-va-a-la-india-latino.html\n",
      "36 http://seriestvlatina.blogspot.com/2014/02/la-casa-de-los-dibujos-parodia-americana-de-seleccion-debate-musical-final-latino.html\n"
     ]
    }
   ],
   "source": [
    "for index, item in enumerate(links):\n",
    "    print(index, item)"
   ]
  },
  {
   "cell_type": "code",
   "execution_count": 75,
   "metadata": {},
   "outputs": [],
   "source": [
    "data = []\n",
    "capitulo_response = requests.get(links[0], headers=HEADERS)"
   ]
  },
  {
   "cell_type": "code",
   "execution_count": 76,
   "metadata": {},
   "outputs": [
    {
     "data": {
      "text/plain": [
       "'El Primer Reality Show animado con 8 personajes de dibujos animados, los cuales tendrán que convivir entre ellos, y soportar el racismo, xenofobia, antisemitismo de sus compañeros.'"
      ]
     },
     "execution_count": 76,
     "metadata": {},
     "output_type": "execute_result"
    }
   ],
   "source": [
    "pq(capitulo_response.content).find('.post span')[4].text_content()"
   ]
  },
  {
   "cell_type": "code",
   "execution_count": 96,
   "metadata": {},
   "outputs": [
    {
     "name": "stdout",
     "output_type": "stream",
     "text": [
      "Monstruos Y Griegos\n",
      "Futuro Gay\n",
      "Deletrea\n",
      "Hijo\n",
      "El Nieto De Morocha\n",
      "México\n",
      "Atrapados En El Centro Comercial (Primera Parte)\n",
      "Atrapados En El Centro Comercial (Segunda Parte)\n",
      "La Red De Mentiras De Charlotte\n",
      "Desayuno Asesino\n",
      "La Casa De Los Dibujos Bebés\n",
      "Argolla Pezonera\n",
      "Lulú Va A La India\n",
      "Parodia Americana De Selección: Debate Final Musical\n",
      "[{'title': 'La Tina Caliente', 'season': 1, 'chapter': 1, 'description': 'El Primer Reality Show animado con 8 personajes de dibujos animados, los cuales tendrán que convivir entre ellos, y soportar el racismo, xenofobia, antisemitismo de sus compañeros.', 'sources': ['https://www.blogger.com/video.g?token=AD6v5dyZg5AXxul6x3DIGljg0k9BA71BuZ0rBAeyN8hpYfvSbZQVRFZIXDE2dwFj5U93GGy2RgFqaIs_8FnUinJglJkbrHJ-ref17wXpq0EZ0ocs2gFvatjZvf_PGQEa3kt4SHoIATg']}, {'title': 'El Sucio Secreto De Clara', 'season': 1, 'chapter': 2, 'description': 'Luego de que Lulú le hiciera creer a Clara de que está embarazada, se deprime debido a que jamás estará embarazada, por su Pulpanocha, el monstruo que habita en su vagina.', 'sources': ['https://www.blogger.com/video.g?token=AD6v5dwF_p8I5gLLrYN0eeZbS0QJqqpvu7Vm1u4r5JJUtMeO9nbnB4isn_z5AVj4gfPT_ZNO8bx2-62HPbb73qFbbFM2jmi35qdKo2n9058D5UYxB0yjgapHlmCzZMVjYc9LnjKXhEM']}, {'title': 'Reventón Gay ', 'season': 1, 'chapter': 3, 'description': 'Xander rechaza la idea de que sea homosexual, por lo cual, Morocha le ofrece un reventón gay. Mientras tanto, Puerquísimo explota a Ling Ling por sus habilidades asiáticas.', 'sources': ['https://draft.blogger.com/video.g?token=AD6v5dyxAIkp-vXc_okTHieDwapAouZmCpdtlgiQDswRODtViX68SMEGugqFCDFvDex_GFKAa_LZfx76FhbLoJ22fRBlUtGYa2rfPNCbUutHECvut8qT5LMzqpX9A3kvY91i2LUSAQw']}, {'title': 'Competencia De Comida', 'season': 1, 'chapter': 4, 'description': \"El Equipo B gana comida ilimitada por una semana, Lulú se siente muy gorda, Capitanazo es humillado por Morocha, y Puerquísimo molesta a Mueble O' Algo.\", 'sources': ['https://www.blogger.com/video.g?token=AD6v5dxBcpOdKPfKdcfUQpp-EeS9Mfrz8Q8OwuHuvhSevLmdNmhZBu7S6ykNbKWuaTSAj0zUa0kiCKh4vexcojwRyONpUz3kgbCmLQBKpb_5Yi3kZrd41uCBUQAheL5ewhmx7xtovso_']}, {'title': 'La Otra Prima', 'season': 1, 'chapter': 5, 'description': 'La prima con retraso mental de Clara, Bleh, va a la Casa, y tiene una relación con Capitanazo. Mientras tanto, los demás abusan de Ling Ling al descubrir que éste segrega un raro líquido.', 'sources': ['https://www.blogger.com/video.g?token=AD6v5dydwwkrX3gF_49R-5nIJuArIq89cL-Zw9hwloMnu3zqCecEgocSIclfsvo8wXrGPrAPeUktmKdMBwywo79uHZADKZhbGi0yBbrqW2wwhlKd0T8C9GQvj5PbVLU_8ON9MZoMUgJG']}, {'title': 'Pizza Con Salchicha', 'season': 1, 'chapter': 6, 'description': 'Clara busca una emoción en su vida, y la encuentra cuando ve a Morocha y a Puerquísimo molestando al repartidor de pizza. Mientras tanto, la relación de amistad de Xander y Capitanazo se deteriora, por no salir juntos.', 'sources': ['https://www.blogger.com/video.g?token=AD6v5dwripwqZ3plVJffY6efS-zMsSxQYZQ8--UmhGsA_rrWv52gdC41kHksMqVoQXJCs2YyuSejpBwNlCMe6KRVzCFhIVGxQaxx7NjduXVe7c4YZP9jjyruNfDrzojGyFHh4ea6wZw']}, {'title': 'El Único En El Que Hay Un Cambio De Trama (Primera Parte)', 'season': 1, 'chapter': 7, 'description': 'Hartos de ser exhibidos por televisión, y sin un premio, todos se ponen en contra del productor judío. Ahora se les ofrece un concurso que le cambiará la vida al que gane, trabajar en una empresa multimillonaria.', 'sources': ['https://www.blogger.com/video.g?token=AD6v5dzs_KEuzCGUExn_HVfx-BEBaDRV0NWSIhuIMGzqfr65aeDWK10WMGH9BmNxFL6b6aC1IQ-4nVAl8gTt63OX6ILa1h0UrOrxd__9MY2R7Lv7BUHn7ujq_aYYIqQsGKtR6wl8E74E']}, {'title': 'El Único En El Que Hay Un Cambio De Trama (Segunda Parte)', 'season': 2, 'chapter': 1, 'description': \"Luego de descubrir que los actores de un reality show no tienen futuro, deciden volver a la Casa, con un nuevo participante, luego del suicidio de Mueble O' Algo. Mientras Lulú...\", 'sources': ['https://www.blogger.com/video.g?token=AD6v5dxRL-L9Owqkbn6GhCkArpsoE5RttFZF_tlbRTrC8JEfwbaBdapLckMehn3oUukBLv_rCK_FVyhHNP1Y6HcTn76ZKgniHLFZ219AY0oal4AgwitlDuvxNq0EvsZjgz3o20pwEJtk']}, {'title': 'Morocha Contra El Director De Educación', 'season': 2, 'chapter': 2, 'description': 'Morocha necesita una licencia de Resuelve-Misterios para resolver misterios. Mientras tanto, Puerquísimo se debe casar con Xander para tener seguro médico, sino morirá por un virus.', 'sources': ['https://www.blogger.com/video.g?token=AD6v5dwvGHiNeSz0bDc1f0PdTA9D2e-Rj1LtJU82Q4FmLLJjgNp7ZfqMJc-uAXcIBo6iQDTFn40KsuIY9mvmSYYSK-sPpj1u0d4IfAwCuXpe1LQklnzwAZGYeIMVFnWaz9cn1A2ZLCE']}, {'title': 'Capitanazo Imbécil', 'season': 2, 'chapter': 3, 'description': '\\n', 'sources': ['https://www.blogger.com/video.g?token=AD6v5dxA4hp78PljMMUtoAkd0aW4B7Xuqx_9aPBGJkNMWRqsboFPYHNkbdIMYMKGffRkbCeLtykdZYwsT1B0gdGrqzqSOMRwJNwqjMio23zRnySaIa2BSAakIv6juTV4V3tWW5nzHuE']}, {'title': 'El Pacto Matrimonial De Capitanazo', 'season': 2, 'chapter': 4, 'description': 'La antigua amiga de Capitanazo, la M', 'sources': ['https://www.blogger.com/video.g?token=AD6v5dwZsiQrcVsfZilxEHfqm6225tcFnf5Pm-W8DcXl4ecg3_bLDmhO2pEwooBMDONn9vYKKAYVtRszFXQVIgPpEwfVJxj7oGD3RgncteBzqUhgKvFawV7Rc35tr5d6nl_BKJLYSS8']}, {'title': 'Leche Bebés', 'season': 2, 'chapter': 5, 'description': 'Mueble necesita aprender a como masturbarse. Y cada vez que lo hace, salen unas milagrosas criaturas que él llama \"Leche Bebés\". Mientras el padre de Ling Ling le consigue un oponente de batalla para siempre.', 'sources': ['https://www.blogger.com/video.g?token=AD6v5dywvJ_VSvU3LABOOboSOJLs7bk-HLalfgAxuDrnMYWlMhaoRDq3IM0ac2gu8dKcRe5jogvh3dPqKmn8IHI9SmmMJYgbpTx9JIPz6QREpDCmiDlh3KnirIz6fGwijIwM6NHOPfg']}, {'title': 'Fantasmas En El Casino', 'season': 2, 'chapter': 6, 'description': 'Los participantes descubren que la Casa se construyó sobre un cementerio Indio, y los indios construyen un Casino. Capitanazo y Puerquísimo los estafan, mientras Morocha abre un club de strippers.', 'sources': ['https://www.blogger.com/video.g?token=AD6v5dxcTV1BhvLW3U6DJAJFTPlJpglCxPxt6c-UWNDWeWRtSu9ib8mdCG50k17--mcfmxirWpS_90lpeAJwchhiQ_g9k-OPthqx2Ldgnwh0u9ahuYQbr5rw70prqerRbdghAo0j6CU']}, {'title': 'Súper Niñera', 'season': 2, 'chapter': 7, 'description': 'Capitanazo se altera al oír el nombre de \"Súper Niñera\", ya que cree que es una súper-villana. Mientras tanto, Ling Ling hace una prueba de manejo y Puerquísimo lo acompaña.', 'sources': ['https://www.blogger.com/video.g?token=AD6v5dytVjgYpz7wo9a6kvCWaHR73aypEzLkgxwEyj6KdeYSdLcfaFOcPjnEpioViVX18J5xSjSxDVbjDACP5WYHde8r0YSSgyhMa82xQFlL1b4XjkBp-KPbkhiBeTi6I_GVMhW7lg']}, {'title': 'Términos De Afecto', 'season': 2, 'chapter': 8, 'description': 'A Morocha le da un tumor, luego de que Capitanazo la espíe con sus rayos X, por lo cual, Capitanazo renuncia a sus poderes. Mientras que Morocha actúa más como una mujer negra del siglo XX.', 'sources': ['https://www.blogger.com/video.g?token=AD6v5dyFXje0Q5pktKluKAmrHWGlMH2Q-jjhXf3L6sq01h9iz7z8ZFhO5p1VC61Lep1cWbmnEJLX7rfvQqZ-imxI0EINgX-azzGKvykbJUE45SVns1MJRyzIO8dblXu2rHjcEgAB008']}, {'title': 'Bebé De Nicaragua', 'season': 2, 'chapter': 9, 'description': 'Por ahora el capítulo llega hasta el minuto ', 'sources': ['https://www.blogger.com/video.g?token=AD6v5dzmpooiKq61URFf9ouuv6v5uzneZM5x8THkJVxDQsKlrwTGTHpOcTmObFiurqdsJVXO08tWIOXU6iR2q1ULVvouwBbOipDo01Agc7vD4bMMl_93VZjgZzKMJ84TUpcev69SWlg']}, {'title': 'Un Cuento De Dos Vacas', 'season': 2, 'chapter': 10, 'description': 'Mueble se enamora de una vaca de verdad, del bosque de verdad. Mientras tanto, Lulú encuentra unos trucos para obligar a Xander a ir a su reunión de un campamento para gordos.', 'sources': ['https://www.blogger.com/video.g?token=AD6v5dzcOUdyj_otLFCOG1bD7fdzERWgNfX089WuH_JR_0e6SIAC23cuEDJRd46k_34hp5MLVhJv5cCXSeu_QyHhnL9SerHiiaNnakgZK2wBDpELCVUUD8QvoqGgILPXrq3BpEln_1g']}, {'title': 'Xander Y Tim, Sentados En Un Árbol', 'season': 2, 'chapter': 11, 'description': '\\n', 'sources': ['https://www.blogger.com/video.g?token=AD6v5dyHXyyJ92g9BgalieHKDPipEPwKnynoXKFueOkl2d5hzdkrH0b0yPL81T-F7FZg9lWot--BvcziJ5PRGuutjYhjWFbOhKRAPpN7AkCcwFxmpmklrPFaebbdcJPBlaExnenSiUXT']}, {'title': 'La Caminata Del SIDA', 'season': 2, 'chapter': 12, 'description': 'Capitanazo hace la caminata del SIDA para demostrar que tiene condición física, y toma esteroides. Mientras tanto, Puerquísimo le enseña a robar a Mueble.', 'sources': ['https://www.blogger.com/video.g?token=AD6v5dxOYTbSpR9JT7pflxZlPT3J7a_lPEZOViU3ew44rz5epD5uTDayUDvHQpHdGoc1nZCGE6aSTBweE3MkztBjWZJnbhqBIbb8prXVjc1kCuTrpTMavPoDX9-4GSbZlc_TMoDuTcY']}, {'title': 'Un Especial Extracurricular Muy Especial De La Casa De Los Dibujos', 'season': 2, 'chapter': 13, 'description': 'Los chicos ayudan a Xander a recrear una situación posible de lo que ocurriría si Xander le dice a sus padres que es gay.', 'sources': ['https://www.blogger.com/video.g?token=AD6v5dyd7rM3LSEwZVl0onV8ROsxz1dp1sK5UV1zSwL6NnDUvgbeTus3ZaRTdjkmqHbcioFkfRZFp4fMDFN2Yl3Fno6cW0mP-MQdlkMFNWmv476jYd8kuYpeD671kkeN3g3CdOYbrb64']}, {'title': 'Alzheimer Que Termina Bien', 'season': 2, 'chapter': 14, 'description': 'Los chicos creen que Lulú está vieja y que tiene Alzheimer, por lo cual la mandan a un acilo. Mientras tanto, Clara se hizo adicta a las operaciones en su vagina.', 'sources': ['https://www.blogger.com/video.g?token=AD6v5dxqrHk8YryKg0o4CNqGdGUQSegpeVyc8aKwfBw8j4tjgk3ZhOmIHlAmuRhD3CW2gPbKt_JKHMk4Z9J3jVwVQFGWIQXxvnSdZT0ZZ5qk6h9DNAZrnpnoyRsaDtNDkFTavRZdcQ']}, {'title': 'La Casa De Los Dibujos: Clip Show', 'season': 2, 'chapter': 15, 'description': 'Un resumen de todo lo que ocurrió en las primeras dos temporadas. Todas las pendej*das de Morocha, Clara, Mueble, Capitanazo, Ling Ling, Puequísimo, Xander y Lulú. ¿Y quién será el ganador?.', 'sources': ['https://www.blogger.com/video.g?token=AD6v5dzjXdXqqwxn-H73pAZybKsIxxKO6ukvq1DLJ8RNPnV7-WWIAon9y53TFmJ2Ud7FrujQScRLND0ejuo7S8xm5eGwP_eY-NcfcrPF1uaghXiwVYEJOivkRrpBrBhhzI3iac_8msHI']}, {'title': 'Monstruos Y Griegos', 'season': 3, 'chapter': 1, 'description': 'Capitanazo cree que los vecinos griegos son realmente una fraternidad, y quiere unirse. Mientras tanto, el papá de Ling Ling se enamora de Lulú.', 'sources': ['https://www.blogger.com/video.g?token=AD6v5dxZKaGnnAOKm_MTYPl_4QonqOWaz41pIvYS4-aqoa44Sy5PbucWueOj9chh5bNsSO2P61m_B2nuo8DCWf8gB-pE2y0AdPplyUWmf5Zglf3JVDaxws-Tx50aFCGVqtMCoVaueKbX']}, {'title': 'Futuro Gay', 'season': 3, 'chapter': 2, 'description': 'Clara teme que el nuevo programa de Mueble haga a todos los niños homosexuales. Mientras tanto, Lulú espera la llegada del Salchimóvil, el camión de comida que reparte deliciosos hot-dogs.', 'sources': ['https://www.blogger.com/video.g?token=AD6v5dwb2N23UkgJTU_6l6pKJVY3RTHPrucQArOEA3zI0_6X-t_WoeBZuBKp1QZnXhxTGbiwEXq_YA7gNRHCN8PZQqjRARNgn17BRLxPBQvFgMD9BP3dJUEOoVoUscoJsg-vX50rm6M']}, {'title': 'Deletrea', 'season': 3, 'chapter': 3, 'description': 'Morocha vuelve a las competencias de Deletreo, y Puerquísimo la representa. Mientras tanto, Capitanazo descubre que a Clara le excitan los accidentes vehiculares.', 'sources': ['https://www.blogger.com/video.g?token=AD6v5dzAkdAyuXm-3dz1Ou4uWiK-dwmU47nWbtIxi2Vc8JrP6dYC7pgnXtvlS9lFMDosXYfyYpcJRK2p_-NfV4Sfg_a9KJy1VYHduiWyEDjgGYhShOdJAKcG9iHOu52T2aMobUPYQ8s']}, {'title': 'Hijo', 'season': 3, 'chapter': 4, 'description': 'Capitanazo descubre que tiene un hijo con retraso mental, por donación de esperma. Mientras tanto, Clara mantiene herido a Mueble para que piensen que es buena. ', 'sources': ['https://www.blogger.com/video.g?token=AD6v5dwIUOWmuVahE4a4eaLUuCdPTRBPn7AFtztiFFf-M_iEIMKRstyljlsmkZGDmqerDVshtDB6dTfEgXQR5-TSxPY8-O6dw88SssinNomeBxqyBJ_LY41EveKmjecEhe_wf-OoThw']}, {'title': 'El Nieto De Morocha', 'season': 3, 'chapter': 5, 'description': 'Morocha recibe la visita sorpresa de su nieto Ray Ray, el cual se esconde entre las paredes. Mientras tanto, Capitanazo se hace adicto a la caza de animales.', 'sources': ['https://www.blogger.com/video.g?token=AD6v5dy_dC0XbSRcxGkLASNCikB9Zkr3w4CUsBaFkXCzPS8ibOjcFK80pNARTOBFQo4__ySg-_4xkOCMmCyWyWQnhwodnufgsZa7K2658vVtXjB81oTDyjLVWmQNV_Dvg9qkNooC50yl']}, {'title': 'México', 'season': 3, 'chapter': 6, 'description': 'Lulú y Ling Ling se quedan en México, ya que no pueden pagar 12 dólares para una multa. Mientras tanto, Morocha ayuda a Capitanazo a ser popular, para que destruya un meteorito.', 'sources': ['https://www.blogger.com/video.g?token=AD6v5dydlZs8Gnm-MLaaMC1juy5UL54pfLPBqMgXYCzmju1oIesnPROgXjDs-IYoQksu8qthZw-kiqLQeKwehgo2-eQyxr6o9FrgeJP6uBkJ3r_75OtGcwMa7up9ExAG3bVR8K_OTbY']}, {'title': 'Atrapados En El Centro Comercial (Primera Parte)', 'season': 3, 'chapter': 7, 'description': 'Clara ve varias señales, que le hacen creer que el Apocalipsis se acerca. Mientras tanto, Xander iba a llevar al resto al Centro Comercial, pero algo sale mal, y quedan encerrados.', 'sources': ['https://www.blogger.com/video.g?token=AD6v5dwVE5IJfuz8ETLDecx89yDdkez5QwTUpjpKMmxZVX67d8iqMfTVpwaxXpzYjlkjOoQSKmHiD44amOEDgwcwo3Fbyx9fOGAoMmwi89Eg6x3mhSP0DZVj8LMKXXWxQ4LMkJiqBmU']}, {'title': 'Atrapados En El Centro Comercial (Segunda Parte)', 'season': 3, 'chapter': 8, 'description': '*sacado de la wiki en inglés de la Casa De Los Dibujos* Este y el epiosdio anterior debían estrenarse en 2.007, como la segunda mitad de la tercera temporada en Estados Unidos. Se había arreglado que la primera parte de la temporada salga en enero de 2.007, pero terminó saliendo en octubre de 2.006, es por eso la diferencia de fechas. En Latinoamérica, salió unos días después.', 'sources': ['https://www.blogger.com/video.g?token=AD6v5dwQaOJfoaGQqfPODw7dSdDHIbh5DWsuctudPXOCVkkibqZDngnDKDOb5hXGSMhtS2rOed-oT2DziBqdwzasJ7sRmHeGwN53m0AlzhEHDp1p2QGWjFKJzI3Vxl00SapvutyVdRlS']}, {'title': 'La Red De Mentiras De Charlotte', 'season': 3, 'chapter': 9, 'description': 'Ling Ling tiene problemas de ira, y mata a Xander en una noche de borrachera. Puequísimo sale con una araña muy obsesiva y Capitanazo y Mueble cuidan del enemigo del héroe.', 'sources': ['https://www.blogger.com/video.g?token=AD6v5dwl8td4_u2Au3BM9t53YWwcEF95NvbSbmT_iqM2vEAnUj5CFnSrTiT3gZSoY5FXFaf-neZ45BQVvdClp3Vf_v7xg27ovRVGgfXjX0FPkGuwna7x_pehx8bEAxXxJV2ArMeeFQ']}, {'title': 'Desayuno Asesino', 'season': 3, 'chapter': 10, 'description': 'Mueble gana el concurso de ser el personaje de una caja de cereal, y Lulú trata de descubrir el oscuro secreto que las empresas de cereales ocultan.', 'sources': ['https://www.blogger.com/video.g?token=AD6v5dyoT2ypokK9oX5cX-Ttc8_N_gr7_rRIxQtBo5djEwxQRZJihhKc-xfpjjN0vvtkEtKPrygNsD-N9xx72QqEt0qYRCjx9zfySz9Jsbx2djxUqX-zzaLWQmZzddrKy788OzQQWn0']}, {'title': 'La Casa De Los Dibujos Bebés', 'season': 3, 'chapter': 11, 'description': 'La versión bebés de la Casa De Los Dibujos. Los participantes matan por accidente a su niñera, y tienen que esconder el cadáver antes de que lleguen sus padres, y evitar que su novio se entere.', 'sources': ['https://www.blogger.com/video.g?token=AD6v5dwZLogK7czdFWsKgB_LacDbI1PJD1bw4efhnyyaQSN1ahla-Ip3cMGjRdHgCvFJU03EKTpp7kWBFQ4hSrhnnPmUcBz7Odjk26lW2Qa7VETMWZPfUAgiah-ayvXiBo1cIt1beQ']}, {'title': 'Argolla Pezonera', 'season': 3, 'chapter': 12, 'description': 'Capitanazo tenía envidia de las argollas pezoneras de Xander, y se pone una, que, al dañarla, le permite comunicarse con su él de 12 años. Mientras tanto, Ling Ling es enviado a una casa adoptiva.', 'sources': ['https://www.blogger.com/video.g?token=AD6v5dzOmwzrWVL7APMwuPyl-7I_4_BmDDwLEGAA0M1rvbdfq337GBvkt00dkOD0WDsxM70W0bSeio3u1av3gaz44ZbuA0aY2UlPOqtllRTPoBv1irEWnPiEinMgWvyOdYsrcQkWkm0y']}, {'title': 'Lulú Va A La India', 'season': 3, 'chapter': 13, 'description': 'Lulú y Morocha hacen una apuesta, Lulú debe tener sexo con varios hombres, y Morocha no. Eso lleva a que unos indios confundan a Lulú con una vaca, y Morocha descubra que fue violada por la pandilla de Fat Albert.', 'sources': ['https://www.blogger.com/video.g?token=AD6v5dwtD9CJX6gZpCXSygcDgtvSREcNPL06DdPjYg-jp70J4IEFo5Ly2zSiIT7W7T2ePvAsOGVWtgucUNtm0UdS4dMnaginy9xcgSc6UnCcWFgl83UVGHfnNQ5MxrEL_H6XA6MHdio']}, {'title': 'Parodia Americana De Selección: Debate Final Musical', 'season': 3, 'chapter': 14, 'description': 'Un final de temporada y de serie, parodia de American Idol. Los participantes deberán cantar, y, por elección del público, serán eliminados o se salvarán.', 'sources': ['https://www.blogger.com/video.g?token=AD6v5dyhPPvoXU4NRgVWzP6pSRNbaPPG_XFOUXdFTWz5ZHwUY04DU3jGtNHcWxFhH78i98AdkBX4atWPDLMzRow2h_TvToPUhOq1JRRI2QClKugl6oP9eB74LGalkgRukCHOUvtXx-ro']}]\n"
     ]
    }
   ],
   "source": [
    "for index, link in enumerate(links[23:]):\n",
    "    capitulo_response = requests.get(link, headers=HEADERS)\n",
    "    capitulo_container = pq(capitulo_response.content).find('.post-body.entry-content iframe')\n",
    "    title = pq(capitulo_response.content).find('.post .post-title')[0].text_content().replace('\\n', '').split(' - ')[2]\n",
    "    description = pq(capitulo_response.content).find('.post span')[4].text_content()\n",
    "    sources = []\n",
    "    for iframe in capitulo_container:\n",
    "        sources.append(iframe.attrib['src'])\n",
    "    d = {'title': title,\n",
    "        'season': 3,\n",
    "        'chapter': index + 1,\n",
    "        'description': description,\n",
    "        'sources': sources\n",
    "    }\n",
    "    print(d['title'])\n",
    "    data.append(d)\n",
    "print(data)"
   ]
  },
  {
   "cell_type": "code",
   "execution_count": 97,
   "metadata": {},
   "outputs": [],
   "source": [
    "archivo = open('casa_dibujos.json', 'w')\n",
    "archivo.write(json.dumps(data))\n",
    "archivo.close()"
   ]
  },
  {
   "cell_type": "code",
   "execution_count": 93,
   "metadata": {},
   "outputs": [
    {
     "ename": "IndexError",
     "evalue": "list index out of range",
     "output_type": "error",
     "traceback": [
      "\u001b[0;31m---------------------------------------------------------------------------\u001b[0m",
      "\u001b[0;31mIndexError\u001b[0m                                Traceback (most recent call last)",
      "\u001b[0;32m<ipython-input-93-58c18ca64979>\u001b[0m in \u001b[0;36m<module>\u001b[0;34m\u001b[0m\n\u001b[1;32m      1\u001b[0m \u001b[0mi\u001b[0m \u001b[0;34m=\u001b[0m \u001b[0;36m21\u001b[0m\u001b[0;34m\u001b[0m\u001b[0;34m\u001b[0m\u001b[0m\n\u001b[0;32m----> 2\u001b[0;31m \u001b[0mdata\u001b[0m\u001b[0;34m[\u001b[0m\u001b[0mi\u001b[0m\u001b[0;34m]\u001b[0m\u001b[0;34m[\u001b[0m\u001b[0;34m'chapter'\u001b[0m\u001b[0;34m]\u001b[0m \u001b[0;34m=\u001b[0m \u001b[0mdata\u001b[0m\u001b[0;34m[\u001b[0m\u001b[0mi\u001b[0m\u001b[0;34m]\u001b[0m\u001b[0;34m[\u001b[0m\u001b[0;34m'chapter'\u001b[0m\u001b[0;34m]\u001b[0m \u001b[0;34m-\u001b[0m \u001b[0;36m1\u001b[0m\u001b[0;34m\u001b[0m\u001b[0;34m\u001b[0m\u001b[0m\n\u001b[0m",
      "\u001b[0;31mIndexError\u001b[0m: list index out of range"
     ]
    }
   ],
   "source": [
    "i = 21\n",
    "data[i]['chapter'] = data[i]['chapter'] - 1"
   ]
  },
  {
   "cell_type": "code",
   "execution_count": 94,
   "metadata": {},
   "outputs": [
    {
     "data": {
      "text/plain": [
       "{'title': 'Alzheimer Que Termina Bien',\n",
       " 'season': 2,\n",
       " 'chapter': 14,\n",
       " 'description': 'Los chicos creen que Lulú está vieja y que tiene Alzheimer, por lo cual la mandan a un acilo. Mientras tanto, Clara se hizo adicta a las operaciones en su vagina.',\n",
       " 'sources': ['https://www.blogger.com/video.g?token=AD6v5dxqrHk8YryKg0o4CNqGdGUQSegpeVyc8aKwfBw8j4tjgk3ZhOmIHlAmuRhD3CW2gPbKt_JKHMk4Z9J3jVwVQFGWIQXxvnSdZT0ZZ5qk6h9DNAZrnpnoyRsaDtNDkFTavRZdcQ']}"
      ]
     },
     "execution_count": 94,
     "metadata": {},
     "output_type": "execute_result"
    }
   ],
   "source": [
    "data[20]"
   ]
  },
  {
   "cell_type": "code",
   "execution_count": null,
   "metadata": {},
   "outputs": [],
   "source": []
  }
 ],
 "metadata": {
  "kernelspec": {
   "display_name": "Python 3",
   "language": "python",
   "name": "python3"
  },
  "language_info": {
   "codemirror_mode": {
    "name": "ipython",
    "version": 3
   },
   "file_extension": ".py",
   "mimetype": "text/x-python",
   "name": "python",
   "nbconvert_exporter": "python",
   "pygments_lexer": "ipython3",
   "version": "3.8.5"
  }
 },
 "nbformat": 4,
 "nbformat_minor": 4
}
