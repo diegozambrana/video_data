{
 "cells": [
  {
   "cell_type": "code",
   "execution_count": 1,
   "metadata": {},
   "outputs": [
    {
     "data": {
      "text/plain": [
       "<Response [200]>"
      ]
     },
     "execution_count": 1,
     "metadata": {},
     "output_type": "execute_result"
    }
   ],
   "source": [
    "import time\n",
    "import requests\n",
    "import json\n",
    "import re\n",
    "from pyquery import PyQuery as pq\n",
    "from ftfy import fix_encoding\n",
    "\n",
    "\n",
    "URL = \"https://www.dragondelasesferas.com/2020/09/dragon-ball-z-capitulos-completos.html\"\n",
    "\n",
    "HEADERS = {'User-Agent': \"Mozilla/5.0 (Macintosh; Intel Mac OS X 10_11_5) \"\n",
    "                         \"AppleWebKit/537.36 (KHTML, like Gecko) Chrome/50\"\n",
    "                         \".0.2661.102 Safari/537.36\"}\n",
    "\n",
    "main_page_response = requests.get(URL, headers=HEADERS)\n",
    "main_page_response"
   ]
  },
  {
   "cell_type": "code",
   "execution_count": 36,
   "metadata": {},
   "outputs": [],
   "source": [
    "links = pq(main_page_response.content).find('span')\n",
    "data = []\n",
    "c = 1"
   ]
  },
  {
   "cell_type": "code",
   "execution_count": 37,
   "metadata": {},
   "outputs": [
    {
     "name": "stdout",
     "output_type": "stream",
     "text": [
      "{'title': 'El secreto de la esfera del dragón', 'season': 1, 'chapter': 1, 'description': '', 'sources': ['https://www.sendvid.com/embed/j9deftlt']}\n",
      "{'title': 'La búsqueda del emperador', 'season': 1, 'chapter': 2, 'description': '', 'sources': ['https://www.sendvid.com/embed/ruhdkatw']}\n",
      "{'title': 'La nube dorada de Roshi', 'season': 1, 'chapter': 3, 'description': '', 'sources': ['https://www.sendvid.com/embed/ynhifr5b']}\n",
      "{'title': 'Oolong, el secuestrador de niñas', 'season': 1, 'chapter': 4, 'description': '', 'sources': ['https://www.sendvid.com/embed/bt88c7mo']}\n",
      "{'title': 'El misterioso y malvado Yamcha vive en el desierto', 'season': 1, 'chapter': 5, 'description': '', 'sources': ['https://www.sendvid.com/embed/6kv365z9']}\n",
      "{'title': 'Vigila la esfera del dragón', 'season': 1, 'chapter': 6, 'description': '', 'sources': ['https://www.sendvid.com/embed/w20n58ae']}\n",
      "{'title': 'Ox-Satan en la montaña de fuego', 'season': 1, 'chapter': 7, 'description': '', 'sources': ['https://www.sendvid.com/embed/16gaej9e']}\n",
      "{'title': 'La onda glaciar de Roshi', 'season': 1, 'chapter': 8, 'description': '', 'sources': ['https://www.sendvid.com/embed/gl7pfxzz']}\n",
      "{'title': 'El truco especial del jefe conejo', 'season': 1, 'chapter': 9, 'description': '', 'sources': ['https://www.sendvid.com/embed/9zyunqwy']}\n",
      "{'title': 'Las esferas del dragón han sido robadas', 'season': 1, 'chapter': 10, 'description': '', 'sources': ['https://www.sendvid.com/embed/wws5gxsd']}\n",
      "{'title': 'El dragón ha sido llamado', 'season': 1, 'chapter': 11, 'description': '', 'sources': ['https://www.sendvid.com/embed/t44w3usx']}\n",
      "{'title': 'Un deseo pedido al Dios dragón', 'season': 1, 'chapter': 12, 'description': '', 'sources': ['https://www.sendvid.com/embed/jzb0ugnv']}\n",
      "{'title': 'La metamorfosis de Goku', 'season': 1, 'chapter': 13, 'description': '', 'sources': ['https://www.sendvid.com/embed/lpq4yj9f']}\n",
      "{'title': 'El rival de Goku', 'season': 1, 'chapter': 14, 'description': '', 'sources': ['https://sendvid.com/embed/zfsfhrqf']}\n",
      "{'title': 'La misterioso niña Lnch', 'season': 1, 'chapter': 15, 'description': '', 'sources': ['https://sendvid.com/embed/u7fn0gij']}\n",
      "{'title': 'La cacería de piedras', 'season': 1, 'chapter': 16, 'description': '', 'sources': ['https://sendvid.com/embed/plrt2p7p']}\n",
      "{'title': 'Los repartidores de leche', 'season': 1, 'chapter': 17, 'description': '', 'sources': ['https://sendvid.com/embed/g980kx3x']}\n",
      "{'title': 'Entrenando al estilo de Roshi', 'season': 1, 'chapter': 18, 'description': '', 'sources': ['https://sendvid.com/embed/2itrnlmz']}\n",
      "{'title': 'El gran torneo de las Artes Marciales', 'season': 1, 'chapter': 19, 'description': '', 'sources': ['https://sendvid.com/embed/1rwlp5e7']}\n",
      "{'title': '¿PodrÃ¡ el duro entrenamiento ser puesto en practica?', 'season': 1, 'chapter': 20, 'description': '', 'sources': ['https://sendvid.com/embed/6izryq7v']}\n",
      "{'title': 'Alerta Krilin!', 'season': 1, 'chapter': 21, 'description': '', 'sources': ['https://sendvid.com/embed/4ryiwq7l']}\n",
      "{'title': 'Yamcha contra Jackie Chun!', 'season': 1, 'chapter': 22, 'description': '', 'sources': ['https://sendvid.com/embed/mg4ywk90']}\n",
      "{'title': 'El horrible Guilan', 'season': 1, 'chapter': 23, 'description': '', 'sources': ['https://sendvid.com/embed/eevf92k5']}\n",
      "{'title': 'El frenético ataque de Krilin', 'season': 1, 'chapter': 24, 'description': '', 'sources': ['https://sendvid.com/embed/4tii4r1n']}\n",
      "{'title': 'El terrible ataque aéreo de Nam', 'season': 1, 'chapter': 25, 'description': '', 'sources': ['https://sendvid.com/embed/qb2fh465']}\n",
      "{'title': 'La fuerza Kame Hame al ataque', 'season': 1, 'chapter': 26, 'description': '', 'sources': ['https://sendvid.com/embed/t578mbb9']}\n",
      "{'title': 'Goku en graves aprietos', 'season': 1, 'chapter': 27, 'description': '', 'sources': ['https://sendvid.com/embed/5kzfsmwu']}\n",
      "{'title': 'Goku ha desaparecido', 'season': 1, 'chapter': 28, 'description': '', 'sources': ['https://sendvid.com/embed/ws2qjb14']}\n",
      "{'title': 'El río que podía moverse', 'season': 1, 'chapter': 29, 'description': '', 'sources': ['https://sendvid.com/embed/2qgwvocd']}\n",
      "{'title': 'El marciano y La patrulla misteriosa', 'season': 1, 'chapter': 30, 'description': '', 'sources': ['https://sendvid.com/embed/0a1r8hpj']}\n",
      "{'title': 'Goku creyó encontrarla', 'season': 1, 'chapter': 31, 'description': '', 'sources': ['https://sendvid.com/embed/3bamx0d0']}\n",
      "{'title': 'La fortaleza voladora desapareció', 'season': 1, 'chapter': 32, 'description': '', 'sources': ['https://sendvid.com/embed/ttwfl8xs']}\n",
      "{'title': 'La leyenda del Dragón', 'season': 1, 'chapter': 33, 'description': '', 'sources': ['https://sendvid.com/embed/650arpkw']}\n",
      "{'title': 'El Ejército rojo y su cruel comandante general', 'season': 1, 'chapter': 34, 'description': '', 'sources': ['https://sendvid.com/embed/7yw6hjeo']}\n",
      "{'title': 'Suno, la pequeña niña de la aldea del norte', 'season': 1, 'chapter': 35, 'description': '', 'sources': ['https://sendvid.com/embed/v0maj77n']}\n",
      "{'title': 'La batalla con el sargento Metálico', 'season': 1, 'chapter': 36, 'description': '', 'sources': ['https://sendvid.com/embed/2wopa47j']}\n",
      "{'title': 'Llegó el ninja Púrpura', 'season': 1, 'chapter': 37, 'description': '', 'sources': ['https://sendvid.com/embed/r3ff32i0']}\n",
      "{'title': 'Cinco ninjas en contra de Goku', 'season': 1, 'chapter': 38, 'description': '', 'sources': ['https://sendvid.com/embed/evgmqa97']}\n",
      "{'title': 'El encuentro con el misterioso robot Nº8', 'season': 1, 'chapter': 39, 'description': '', 'sources': ['https://sendvid.com/embed/0sc1jodz']}\n",
      "{'title': 'La pelea de Goku contra el terrible Gullon', 'season': 1, 'chapter': 40, 'description': '', 'sources': ['https://sendvid.com/embed/3m3zfe9u']}\n",
      "{'title': 'El último día en la torre de la fuerza', 'season': 1, 'chapter': 41, 'description': '', 'sources': ['https://sendvid.com/embed/x2a6fpfm']}\n",
      "{'title': 'El inesperado secreto del Doctor Flappe', 'season': 1, 'chapter': 42, 'description': '', 'sources': ['https://sendvid.com/embed/do9hhe9j']}\n",
      "{'title': 'La casa de Bulma al oeste de la Metrópoli', 'season': 1, 'chapter': 43, 'description': '', 'sources': ['https://sendvid.com/embed/qepwug51']}\n",
      "{'title': 'Goku y sus amigos en terribles aprietos', 'season': 1, 'chapter': 44, 'description': '', 'sources': ['https://sendvid.com/embed/k5hkuumk']}\n",
      "{'title': 'Cuidado, hay una trampa ', 'season': 1, 'chapter': 45, 'description': '', 'sources': ['https://sendvid.com/embed/x10s2znk']}\n",
      "{'title': 'El fracaso total de Bulma', 'season': 1, 'chapter': 46, 'description': '', 'sources': ['https://sendvid.com/embed/u2xhbj1o']}\n",
      "{'title': 'Encuentran la casa de Roshi', 'season': 1, 'chapter': 47, 'description': '', 'sources': ['https://sendvid.com/embed/5juu0g79']}\n",
      "{'title': 'El General Blue empieza a atacar', 'season': 1, 'chapter': 48, 'description': '', 'sources': ['https://sendvid.com/embed/dghngq0b']}\n",
      "{'title': 'Cuidado con el enemigo', 'season': 1, 'chapter': 49, 'description': '', 'sources': ['https://sendvid.com/embed/kbvca540']}\n",
      "{'title': 'El secreto de los piratas', 'season': 1, 'chapter': 50, 'description': '', 'sources': ['https://sendvid.com/embed/kap7mfcg']}\n",
      "{'title': 'El guardián de las profundidades', 'season': 1, 'chapter': 51, 'description': '', 'sources': ['https://sendvid.com/embed/3e8exanb']}\n",
      "{'title': 'Grandioso! Hemos encontrado el tesoro', 'season': 1, 'chapter': 52, 'description': '', 'sources': ['https://sendvid.com/embed/k3hgef7d']}\n",
      "{'title': 'La cueva siniestra', 'season': 1, 'chapter': 53, 'description': '', 'sources': ['https://sendvid.com/embed/ixct5r05']}\n",
      "{'title': 'El escape', 'season': 1, 'chapter': 54, 'description': '', 'sources': ['https://sendvid.com/embed/9in5wcxc']}\n",
      "{'title': 'Camino a Villa Pingüino', 'season': 1, 'chapter': 55, 'description': '', 'sources': ['https://sendvid.com/embed/x2hcf41o']}\n",
      "{'title': 'Arale viaja en la nube voladora', 'season': 1, 'chapter': 56, 'description': '', 'sources': ['https://sendvid.com/embed/zwaaz958']}\n",
      "{'title': 'Arale contra el General Blue', 'season': 1, 'chapter': 57, 'description': '', 'sources': ['https://sendvid.com/embed/lk01wfib']}\n",
      "{'title': 'La Tierra Sagrada', 'season': 1, 'chapter': 58, 'description': '', 'sources': ['https://sendvid.com/embed/1rs2tze9']}\n",
      "{'title': 'Tao PaiPai, el exterminador más famoso del mundo ha llegado', 'season': 1, 'chapter': 59, 'description': '', 'sources': ['https://sendvid.com/embed/ojsz4ka2']}\n",
      "{'title': 'La fuerza Kame Hame contra Tao PaiPai', 'season': 1, 'chapter': 60, 'description': '', 'sources': ['https://sendvid.com/embed/pzskmn8q']}\n",
      "{'title': 'La torre del maestro Karin', 'season': 1, 'chapter': 61, 'description': '', 'sources': ['https://sendvid.com/embed/l2jjhkl5']}\n",
      "{'title': 'El beneficio del agua sagrada', 'season': 1, 'chapter': 62, 'description': '', 'sources': ['https://sendvid.com/embed/utmuwgrz']}\n",
      "{'title': 'Goku contraataca', 'season': 1, 'chapter': 63, 'description': '', 'sources': ['https://sendvid.com/embed/ptt7zjbh']}\n",
      "{'title': 'El último Tao PaiPai', 'season': 1, 'chapter': 64, 'description': '', 'sources': ['https://sendvid.com/embed/9p5oaol5']}\n",
      "{'title': 'Vamos Goku! Comienza la pelea', 'season': 1, 'chapter': 65, 'description': '', 'sources': ['https://sendvid.com/embed/unnibuke']}\n",
      "{'title': 'El último esfuerzo de la Patrulla Roja', 'season': 1, 'chapter': 66, 'description': '', 'sources': ['https://sendvid.com/embed/yv69ntni']}\n",
      "{'title': 'El comandante de la patrulla roja muere', 'season': 1, 'chapter': 67, 'description': '', 'sources': ['https://sendvid.com/embed/tw3tbsyz']}\n",
      "{'title': 'La última Esfera del Dragón', 'season': 1, 'chapter': 68, 'description': '', 'sources': ['https://sendvid.com/embed/44bi0ceh']}\n",
      "{'title': '¿QuiÃ©n es Uranai Baba?', 'season': 1, 'chapter': 69, 'description': '', 'sources': ['https://sendvid.com/embed/pvnbssru']}\n",
      "{'title': 'El ataque de los cinco guerreros', 'season': 1, 'chapter': 70, 'description': '', 'sources': ['https://sendvid.com/embed/uylfarog']}\n",
      "{'title': 'Una batalla sangrienta y mortal', 'season': 1, 'chapter': 71, 'description': '', 'sources': ['https://sendvid.com/embed/dpyoyr3w']}\n",
      "{'title': 'La pelea de Son Goku en el baño del diablo', 'season': 1, 'chapter': 72, 'description': '', 'sources': ['https://sendvid.com/embed/7go13ixe']}\n",
      "{'title': '¿QuÃ© es el resplandor del diablo?', 'season': 1, 'chapter': 73, 'description': '', 'sources': ['https://sendvid.com/embed/51cin52a']}\n",
      "{'title': 'El misterioso quinto participante', 'season': 1, 'chapter': 74, 'description': '', 'sources': ['https://sendvid.com/embed/svj15jw1']}\n",
      "{'title': '¿QuÃ©? El poderoso adversario resulto ser un viejo amigo', 'season': 1, 'chapter': 75, 'description': '', 'sources': ['https://sendvid.com/embed/sx9trxuc']}\n",
      "{'title': 'La verdadera identidad del hombre enmascarado es', 'season': 1, 'chapter': 76, 'description': '', 'sources': ['https://sendvid.com/embed/ysngx630']}\n",
      "{'title': 'El gran plan de Pilaf', 'season': 1, 'chapter': 77, 'description': '', 'sources': ['https://sendvid.com/embed/edg8e7mp']}\n",
      "{'title': 'Otra vez el Dios Dragón', 'season': 1, 'chapter': 78, 'description': '', 'sources': ['https://sendvid.com/embed/m6ytftf1']}\n",
      "{'title': 'Oro, Plata y una cantimplora come hombres', 'season': 1, 'chapter': 79, 'description': '', 'sources': ['https://sendvid.com/embed/wk1nay6g']}\n",
      "{'title': 'Una pelea ante la presencia del rey Goku contra Ten-long', 'season': 1, 'chapter': 80, 'description': '', 'sources': ['https://sendvid.com/embed/2q8m961e']}\n",
      "{'title': 'Goku va a la tierra del Demonio', 'season': 1, 'chapter': 81, 'description': '', 'sources': ['https://sendvid.com/embed/ikkblpsx']}\n",
      "{'title': 'Un monstruo violento llamado Inoch-ka-cho', 'season': 1, 'chapter': 82, 'description': '', 'sources': ['https://sendvid.com/embed/qdqb1stb']}\n",
      "{'title': 'Apresúrate Goku! El Torneo de las Artes Marciales se avecina', 'season': 1, 'chapter': 83, 'description': '', 'sources': ['https://sendvid.com/embed/fazvtj04']}\n",
      "{'title': '¿QuiÃ©n es el mejor luchador de las Artes Marciales', 'season': 1, 'chapter': 84, 'description': '', 'sources': ['https://sendvid.com/embed/oqvqinsc']}\n",
      "{'title': 'Tenemos que ganar! ¿QuiÃ©n llegarÃ¡ a las preliminares?', 'season': 1, 'chapter': 85, 'description': '', 'sources': ['https://sendvid.com/embed/ldqkl9hl']}\n",
      "{'title': 'Los ocho finalistas', 'season': 1, 'chapter': 86, 'description': '', 'sources': ['https://sendvid.com/embed/zubnal4e']}\n",
      "{'title': 'Yamcha contra Tenshinhan', 'season': 1, 'chapter': 87, 'description': '', 'sources': ['https://sendvid.com/embed/mi328z08']}\n",
      "{'title': 'Ten cuidado Yamcha! El terrible Tenshinhan es muy poderoso', 'season': 1, 'chapter': 88, 'description': '', 'sources': ['https://sendvid.com/embed/5ywvvyoa']}\n",
      "{'title': 'Terror! El misterio de la luna llena', 'season': 1, 'chapter': 89, 'description': '', 'sources': ['https://sendvid.com/embed/ezqymhp9']}\n",
      "{'title': 'Qué, qué, qué? Qué Dodonpa?', 'season': 1, 'chapter': 90, 'description': '', 'sources': ['https://sendvid.com/embed/imxw6xsn']}\n",
      "{'title': 'La situación a cambiado! El plan matemático de Krilin', 'season': 1, 'chapter': 91, 'description': '', 'sources': ['https://sendvid.com/embed/i8ez6sag']}\n",
      "{'title': 'Finalmente... El turno de Goku', 'season': 1, 'chapter': 92, 'description': '', 'sources': ['https://sendvid.com/embed/4xtlfxit']}\n",
      "{'title': 'Una pelea muy difícil: Tenshinhan contra Jackie Chun', 'season': 1, 'chapter': 93, 'description': '', 'sources': ['https://sendvid.com/embed/0x8tjx41']}\n",
      "{'title': 'Que! La tÃ©cnica del maestro Tsuru: Tay yu ken¨', 'season': 1, 'chapter': 94, 'description': '', 'sources': ['https://sendvid.com/embed/iz39ycfz']}\n",
      "{'title': 'A pelear! Goku contra Krilin!', 'season': 1, 'chapter': 95, 'description': '', 'sources': ['https://sendvid.com/embed/6m7zj7he']}\n",
      "{'title': 'La sorpresa de Goku y el plan de Krilin', 'season': 1, 'chapter': 96, 'description': '', 'sources': ['https://sendvid.com/embed/2n8t3q85']}\n",
      "{'title': 'El úñltimo combate', 'season': 1, 'chapter': 97, 'description': '', 'sources': ['https://sendvid.com/embed/o1s5kyf9']}\n",
      "{'title': 'Las técnica secreta Tay yu ken contra el poder de ataque', 'season': 1, 'chapter': 98, 'description': '', 'sources': ['https://sendvid.com/embed/i14icvhm']}\n",
      "{'title': 'La angustia de Tenshinhan', 'season': 1, 'chapter': 99, 'description': '', 'sources': ['https://sendvid.com/embed/gerwgix6']}\n",
      "{'title': 'Vivir o morir la última alternativa', 'season': 1, 'chapter': 100, 'description': '', 'sources': ['https://sendvid.com/embed/3cgzsgsk']}\n",
      "{'title': 'El torneo de las Artes Marciales ha terminado', 'season': 1, 'chapter': 101, 'description': '', 'sources': ['https://sendvid.com/embed/29w9sksq']}\n",
      "{'title': 'La muerte de Krilin! Un complot', 'season': 1, 'chapter': 102, 'description': '', 'sources': ['https://sendvid.com/embed/q827ismc']}\n",
      "{'title': 'El terrible Piccolo Daimaoh', 'season': 1, 'chapter': 103, 'description': '', 'sources': ['https://sendvid.com/embed/417zs2lo']}\n",
      "{'title': 'Goku regresa', 'season': 1, 'chapter': 104, 'description': '', 'sources': ['https://sendvid.com/embed/k48qhaqf']}\n",
      "{'title': 'El gran Yajirobe', 'season': 1, 'chapter': 105, 'description': '', 'sources': ['https://sendvid.com/embed/fegu4klj']}\n",
      "{'title': 'El malvado Tambori se acerca', 'season': 1, 'chapter': 106, 'description': '', 'sources': ['https://sendvid.com/embed/q9eipr79']}\n",
      "{'title': 'Goku se enfurece', 'season': 1, 'chapter': 107, 'description': '', 'sources': ['https://sendvid.com/embed/ruclihi6']}\n",
      "{'title': 'La aparición de Piccolo Daimaoh', 'season': 1, 'chapter': 108, 'description': '', 'sources': ['https://sendvid.com/embed/z4liwb3t']}\n",
      "{'title': 'Goku contra Piccolo Daimaoh', 'season': 1, 'chapter': 109, 'description': '', 'sources': ['https://sendvid.com/embed/z4liwb3t']}\n",
      "{'title': 'Tu puedes Goku!', 'season': 1, 'chapter': 110, 'description': '', 'sources': ['https://sendvid.com/embed/c971piha']}\n",
      "{'title': 'El último Ma-Fuu-Ba del maestro Roshi', 'season': 1, 'chapter': 111, 'description': '', 'sources': ['https://sendvid.com/embed/inirwo1x']}\n",
      "{'title': '¿PodrÃ¡ Piccolo Daimaoh recuperar la juventud?', 'season': 1, 'chapter': 112, 'description': '', 'sources': ['https://sendvid.com/embed/96mez2rr']}\n",
      "{'title': 'Ataque al Castillo del Rey', 'season': 1, 'chapter': 113, 'description': '', 'sources': ['https://sendvid.com/embed/15uy6mzw']}\n",
      "{'title': 'La esperanza de Goku', 'season': 1, 'chapter': 114, 'description': '', 'sources': ['https://sendvid.com/embed/vl89rkai']}\n",
      "{'title': 'Vamos por la misteriosa agua de los Dioses', 'season': 1, 'chapter': 115, 'description': '', 'sources': ['https://sendvid.com/embed/30jr0dxe']}\n",
      "{'title': '¿El Maestro Roshi esta vivo?', 'season': 1, 'chapter': 116, 'description': '', 'sources': ['https://sendvid.com/embed/1hxvs0cw']}\n",
      "{'title': 'Goku despierta', 'season': 1, 'chapter': 117, 'description': '', 'sources': ['https://sendvid.com/embed/s4fen7oi']}\n",
      "{'title': 'La decisión de TenShinHan', 'season': 1, 'chapter': 118, 'description': '', 'sources': ['https://sendvid.com/embed/uu490sgz']}\n",
      "{'title': 'La legendaria técnica Ma-Fuu-Ba', 'season': 1, 'chapter': 119, 'description': '', 'sources': ['https://sendvid.com/embed/je691n4x']}\n",
      "{'title': 'La ira de Goku', 'season': 1, 'chapter': 120, 'description': '', 'sources': ['https://sendvid.com/embed/7vediws0']}\n",
      "{'title': 'El momento crucial de Goku', 'season': 1, 'chapter': 121, 'description': '', 'sources': ['https://sendvid.com/embed/dqdbo15m']}\n",
      "{'title': 'El último esfuerzo', 'season': 1, 'chapter': 122, 'description': '', 'sources': ['https://sendvid.com/embed/y9ttaoed']}\n",
      "{'title': 'El secreto del báculo sagrado', 'season': 1, 'chapter': 123, 'description': '', 'sources': ['https://sendvid.com/embed/3kiie0h5']}\n",
      "{'title': 'El templo sagrado esta arriba de las nubes', 'season': 1, 'chapter': 124, 'description': '', 'sources': ['https://sendvid.com/embed/z3b2nli6']}\n",
      "{'title': 'La aparición de KamiSama', 'season': 1, 'chapter': 125, 'description': '', 'sources': ['https://sendvid.com/embed/v8nn4m7b']}\n",
      "{'title': 'Shen-Long revive', 'season': 1, 'chapter': 126, 'description': '', 'sources': ['https://sendvid.com/embed/0oipev18']}\n",
      "{'title': 'Más rápido que un relámpago', 'season': 1, 'chapter': 127, 'description': '', 'sources': ['https://sendvid.com/embed/hef51uv0']}\n",
      "{'title': 'Tranquilo como el cielo', 'season': 1, 'chapter': 128, 'description': '', 'sources': ['https://sendvid.com/embed/43qq5a2u']}\n",
      "{'title': 'Goku viaja a través del tiempo', 'season': 1, 'chapter': 129, 'description': '', 'sources': ['https://sendvid.com/embed/xvfp0w0c']}\n",
      "{'title': 'El oponente de Goku es', 'season': 1, 'chapter': 130, 'description': '', 'sources': ['https://sendvid.com/embed/wta3mcjj']}\n",
      "{'title': 'Cada quién toma un camino', 'season': 1, 'chapter': 131, 'description': '', 'sources': ['https://sendvid.com/embed/g8jokpdp']}\n",
      "{'title': 'Mas caliente que el magma', 'season': 1, 'chapter': 132, 'description': '', 'sources': ['https://sendvid.com/embed/kh5wrjw1']}\n",
      "{'title': 'Una reunión después de la tormenta', 'season': 1, 'chapter': 133, 'description': '', 'sources': ['https://sendvid.com/embed/0i5xg100']}\n",
      "{'title': 'El torneo de las Artes Marciales ha comenzado', 'season': 1, 'chapter': 134, 'description': '', 'sources': ['https://sendvid.com/embed/pxh8j4kb']}\n",
      "{'title': 'Los ocho peleadores', 'season': 1, 'chapter': 135, 'description': '', 'sources': ['https://sendvid.com/embed/de3fo94f']}\n",
      "{'title': 'El contraataque del asesino Tao PaiPai', 'season': 1, 'chapter': 136, 'description': '', 'sources': ['https://sendvid.com/embed/k6m99fyd']}\n",
      "{'title': 'La promesa de Goku', 'season': 1, 'chapter': 137, 'description': '', 'sources': ['https://sendvid.com/embed/vzlglsog']}\n",
      "{'title': 'El misterioso hombre llamado Shen', 'season': 1, 'chapter': 138, 'description': '', 'sources': ['https://sendvid.com/embed/al50jec5']}\n",
      "{'title': 'Nuevamente una pelea violenta', 'season': 1, 'chapter': 139, 'description': '', 'sources': ['https://sendvid.com/embed/qy6cwze2']}\n",
      "{'title': 'El verdadero poder', 'season': 1, 'chapter': 140, 'description': '', 'sources': ['https://sendvid.com/embed/6dhrzp1k']}\n",
      "{'title': 'Cuatro Tenshinhan', 'season': 1, 'chapter': 141, 'description': '', 'sources': ['https://sendvid.com/embed/wkwzrpe2']}\n",
      "{'title': '¿QuiÃ©n serÃ¡ mÃ¡s fuerte? KamiSama contra Piccolo', 'season': 1, 'chapter': 142, 'description': '', 'sources': ['https://sendvid.com/embed/09tssm1l']}\n",
      "{'title': 'El destino del mundo corre peligro', 'season': 1, 'chapter': 143, 'description': '', 'sources': ['https://sendvid.com/embed/z5n98q4m']}\n",
      "{'title': 'El super Kame-Hame-Ha', 'season': 1, 'chapter': 144, 'description': '', 'sources': ['https://sendvid.com/embed/9i0b09zu']}\n",
      "{'title': 'El gigante Piccolo Daimaoh', 'season': 1, 'chapter': 145, 'description': '', 'sources': ['https://sendvid.com/embed/4akl6l67']}\n",
      "{'title': 'La trampa de Goku', 'season': 1, 'chapter': 146, 'description': '', 'sources': ['https://sendvid.com/embed/u2ajv4v4']}\n",
      "{'title': 'Todo se ha perdido', 'season': 1, 'chapter': 147, 'description': '', 'sources': ['https://sendvid.com/embed/gh0jwuyx']}\n",
      "{'title': 'El hombre más fuerte del mundo', 'season': 1, 'chapter': 148, 'description': '', 'sources': ['https://sendvid.com/embed/h2ug72l5']}\n",
      "{'title': 'El vestido de novia rodeado de llamas', 'season': 1, 'chapter': 149, 'description': '', 'sources': ['https://sendvid.com/embed/38wti151']}\n",
      "{'title': 'El ave traga fuego', 'season': 1, 'chapter': 150, 'description': '', 'sources': ['https://sendvid.com/embed/aeocuqxj']}\n",
      "{'title': 'Milk entrena duró para ser una buena esposa', 'season': 1, 'chapter': 151, 'description': '', 'sources': ['https://sendvid.com/embed/qsyo4nhe']}\n",
      "{'title': 'Apresúrate Goku! El misterio de la montaña de los cinco elementos', 'season': 1, 'chapter': 152, 'description': '', 'sources': ['https://sendvid.com/embed/jo0i6a8r']}\n",
      "{'title': 'La montaña Fly-Pan esta en llamas, una decisión de vida o muerte', 'season': 1, 'chapter': 153, 'description': '', 'sources': ['https://sendvid.com/embed/gmjo1742']}\n"
     ]
    }
   ],
   "source": [
    "for link in links:\n",
    "    # print(link.attrib)\n",
    "    if 'href' in link.attrib:\n",
    "        if 'sendvid' in link.attrib['href']:\n",
    "            d = {\n",
    "                'title': fix_encoding(link.text_content()),\n",
    "                'season': 1,\n",
    "                'chapter': c,\n",
    "                'description': '',\n",
    "                'sources': [link.attrib['href']]\n",
    "            }\n",
    "            print(d)\n",
    "            c += 1\n",
    "            data.append(d)"
   ]
  },
  {
   "cell_type": "code",
   "execution_count": 38,
   "metadata": {},
   "outputs": [
    {
     "data": {
      "text/plain": [
       "'Las esferas del dragón han sido robadas'"
      ]
     },
     "execution_count": 38,
     "metadata": {},
     "output_type": "execute_result"
    }
   ],
   "source": [
    "fix_encoding(links[15].text_content())"
   ]
  },
  {
   "cell_type": "code",
   "execution_count": 39,
   "metadata": {},
   "outputs": [],
   "source": [
    "def save_json(data, name):\n",
    "    archivo = open(f'./new_shows/{name}.json', 'w')\n",
    "    archivo.write(json.dumps(data))\n",
    "    archivo.close()\n",
    "    print(f'saved: {name}')"
   ]
  },
  {
   "cell_type": "code",
   "execution_count": 40,
   "metadata": {},
   "outputs": [
    {
     "name": "stdout",
     "output_type": "stream",
     "text": [
      "saved: dragon_ball\n"
     ]
    }
   ],
   "source": [
    "save_json(data, 'dragon_ball')"
   ]
  },
  {
   "cell_type": "code",
   "execution_count": null,
   "metadata": {},
   "outputs": [],
   "source": []
  }
 ],
 "metadata": {
  "kernelspec": {
   "display_name": "Python 3",
   "language": "python",
   "name": "python3"
  },
  "language_info": {
   "codemirror_mode": {
    "name": "ipython",
    "version": 3
   },
   "file_extension": ".py",
   "mimetype": "text/x-python",
   "name": "python",
   "nbconvert_exporter": "python",
   "pygments_lexer": "ipython3",
   "version": "3.8.5"
  }
 },
 "nbformat": 4,
 "nbformat_minor": 4
}
