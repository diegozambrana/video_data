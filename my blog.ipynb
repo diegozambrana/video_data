{
 "cells": [
  {
   "cell_type": "code",
   "execution_count": 1,
   "metadata": {},
   "outputs": [],
   "source": [
    "import requests\n",
    "import json\n",
    "from pyquery import PyQuery as pq"
   ]
  },
  {
   "cell_type": "code",
   "execution_count": 20,
   "metadata": {},
   "outputs": [],
   "source": [
    "URL_TOTAL = \"https://mrtrash.blogspot.com/2021/01/sel.html\"\n",
    "HEADERS = {'User-Agent': \"Mozilla/5.0 (Macintosh; Intel Mac OS X 10_11_5) \"\n",
    "                         \"AppleWebKit/537.36 (KHTML, like Gecko) Chrome/50\"\n",
    "                         \".0.2661.102 Safari/537.36\"}"
   ]
  },
  {
   "cell_type": "code",
   "execution_count": 21,
   "metadata": {},
   "outputs": [],
   "source": [
    "main_page_response = requests.get(URL_TOTAL, headers=HEADERS)"
   ]
  },
  {
   "cell_type": "code",
   "execution_count": 22,
   "metadata": {},
   "outputs": [],
   "source": [
    "elements = pq(main_page_response.content).find('iframe')"
   ]
  },
  {
   "cell_type": "code",
   "execution_count": 23,
   "metadata": {},
   "outputs": [],
   "source": [
    "lista = list(map(lambda x: x.attrib['src'],elements))"
   ]
  },
  {
   "cell_type": "code",
   "execution_count": 24,
   "metadata": {},
   "outputs": [
    {
     "name": "stdout",
     "output_type": "stream",
     "text": [
      "https://www.blogger.com/video.g?token=AD6v5dyAejJ11UFqRPRhtYyrbqYMgj2mwAmV8G7By03HnwHG3448dHYoZ1AW_cMDlQbAIVHKOtcT_4V6b1kfJWAapqzSqRSzb5Y67QCwMW7P8ycnshRCZnofEC0V1hcUFzSHSUNJQXY\n",
      "https://www.blogger.com/video.g?token=AD6v5dwLwHv2E_JFNH6Bis8MAzNA5eDdLHKTnJY-KEqK0UWiNOPLDj2wAxODXbRAGsZpide_4rENGk4y65DAQL2jjIWQ1YngOkq3LiGfQMvNo3OBBdaD76FgeXrleUTRZkVwR87MSfM\n",
      "https://www.blogger.com/video.g?token=AD6v5dy2sAKm4mM9acEkluM9vmSx52sFkxYG9qXyjpot6BXLbYKRN-9NaQPyjj8gt0VwDenAj-PBU2boEFAI_Iu-kh0In9sLkkfNOCvY95JQGWkS6B1s9nSe2Jm-qXfUHu6Zoncju3o\n",
      "https://www.blogger.com/video.g?token=AD6v5dyZ8mZCTjDAEEmJmT2Zkt0V-uueC3H9tYG-UcC26yr3u58aGwiCZJKv0hFIj6IpdujQc9zlbc9tVzsdy9FfqJWjTuPikXMvyvv1zpftaO8ZO0USLelWizgL3MMWxApaZshsrZQm\n",
      "https://www.blogger.com/video.g?token=AD6v5dzxFdUJEhoDDv0w9mcjqq8ag5NqnN1AA9SZ3FrZlms15Y4VY1G4X3TB_k7vGPlcupWEBw9gOcA-SAHILSdhYIdCGXmGK2qNS1TEdisH7UcfAJxJ7-SBNw5p85V7iT-nAxfNDHQ\n",
      "https://www.blogger.com/video.g?token=AD6v5dzjCiLqLL4WCWVyaO-CeCYspgNUWlxtLvnybdA80_pHudifxNn8PZic_TB48Yn7NZUcRFbc1elpKGM6PHR4wYVJxT_FgFypaNkA7ejJ2Jh_bDN59zZovwGbIvoLkBO_zErbc3g\n",
      "https://www.blogger.com/video.g?token=AD6v5dxI8Br86iGkZik4Rz6nWKg3EA8yBELjdExtynhfk6dPXjfTvnbpu_lHxxxJqUftvunHfju3HiJnY7-KWSsweo-z1g_ayizq3fHgl26ogBQxagdW9eSIo9BZAYEDhOSiphgorba3\n",
      "https://www.blogger.com/video.g?token=AD6v5dx7mXsFSjHF7UcMUcd49O4s3RFNeWDjHR4boUliA-e8srwcNqkB3PrOHI4dcKYvzA6LyMF1mkToD8mlHur4J-zAgaVPWiugaUrAX3PxrfHX4p-9WGrb0Izs_3Sxmwf8HMwuzWo\n",
      "https://www.blogger.com/video.g?token=AD6v5dyDVUc5JVJWBn1coxGWBmb9H5NiGTvO7NvglTdAq4pJ2OLYKnMAr07daPpLgP_WSbXuq28ECAVNabVFs-Unw3Nk_lzeNp1E_d_owtE9VIhg2uRsPqAdn6W5aIn-pNovsRVUvA5K\n",
      "https://www.blogger.com/video.g?token=AD6v5dwSIA5GQRDogdTACETO03wguqcWuQUmB23NzP1inZp7kjP8IzkBy4xOO-KUcmR9X0kbLyN1h4n3or4aGSr3sCiXLKVZuXZwKAKap6pPzgghXdXUFy3bW6qyl_IfHqJQBmm7mmrM\n",
      "https://www.blogger.com/video.g?token=AD6v5dyZyAkJ-5lAcSM9ZPJc9RgJnf5QipAgR3Xw8g5WYxUWcnWj_KLwM-puIUfBkApxtc01URnXCIulV9Xbnm_oXYle6s4JcB5d6jR_5ncGw2vXyjhQfQqTkCIoDc4Po8CwIBKYmGQ\n",
      "https://www.blogger.com/video.g?token=AD6v5dxicWA_aAmZzm9-dT0t-W5LNfdgCCyDcAhMnjA-uaHyoPu-NozF7HWYb1z9M5tmuXEOy_NDcW5FI7h8hPI0Q4KWzRc2cfDZ8KuCE5hO-EzVHRsAHOPFfsHsJtbivQdIfJ5NRCE\n",
      "https://www.blogger.com/video.g?token=AD6v5dxKRxKjlj53JbaWdB3bSXZV2I1tNMXYKVerqOqzT0RqHHKQV2eqse8To395enLIPtRodmmXzZOKaIsIbSFcOQuEH7tdeB7OdeIYLZkdusSe5QfdnBAO5_R-hE2eNjWPzImpxSo\n",
      "\n"
     ]
    }
   ],
   "source": [
    "for l in lista:\n",
    "    print(l)"
   ]
  },
  {
   "cell_type": "code",
   "execution_count": null,
   "metadata": {},
   "outputs": [],
   "source": []
  }
 ],
 "metadata": {
  "kernelspec": {
   "display_name": "Python 3",
   "language": "python",
   "name": "python3"
  },
  "language_info": {
   "codemirror_mode": {
    "name": "ipython",
    "version": 3
   },
   "file_extension": ".py",
   "mimetype": "text/x-python",
   "name": "python",
   "nbconvert_exporter": "python",
   "pygments_lexer": "ipython3",
   "version": "3.8.5"
  }
 },
 "nbformat": 4,
 "nbformat_minor": 4
}
